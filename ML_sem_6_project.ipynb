{
  "cells": [
    {
      "cell_type": "markdown",
      "source": [],
      "metadata": {
        "id": "zn0N0S5ZZMY2"
      }
    },
    {
      "cell_type": "code",
      "execution_count": 3,
      "metadata": {
        "id": "mtYA5f8I7MG6"
      },
      "outputs": [],
      "source": [
        "import pandas as pd\n",
        "from sklearn.model_selection import train_test_split, GridSearchCV\n",
        "from sklearn.preprocessing import LabelEncoder, StandardScaler\n",
        "from sklearn.linear_model import LogisticRegression\n",
        "from sklearn.tree import DecisionTreeClassifier\n",
        "from sklearn.ensemble import RandomForestClassifier\n",
        "from sklearn.metrics import accuracy_score, confusion_matrix"
      ]
    },
    {
      "cell_type": "markdown",
      "metadata": {
        "id": "1wcvvbKzcs-P"
      },
      "source": [
        "# 1. Read Dataset from UCI machine learning repository"
      ]
    },
    {
      "cell_type": "code",
      "source": [
        "df = pd.read_csv(\"/content/tic_2000_eval_data.csv\")\n",
        "df.head()\n"
      ],
      "metadata": {
        "colab": {
          "base_uri": "https://localhost:8080/",
          "height": 235
        },
        "id": "B2by8IiReq28",
        "outputId": "ac3c780e-d6e4-4d2f-8c00-90e7e2a203e9"
      },
      "execution_count": 4,
      "outputs": [
        {
          "output_type": "execute_result",
          "data": {
            "text/plain": [
              "   MOSTYPE  MAANTHUI  MGEMOMV  MGEMLEEF  MOSHOOFD  MGODRK  MGODPR  MGODOV  \\\n",
              "0       33         1        4         2         8       0       6       0   \n",
              "1        6         1        3         2         2       0       5       0   \n",
              "2       39         1        3         3         9       1       4       2   \n",
              "3        9         1        2         3         3       2       3       2   \n",
              "4       31         1        2         4         7       0       2       0   \n",
              "\n",
              "   MGODGE  MRELGE  ...  ALEVEN  APERSONG  AGEZONG  AWAOREG  ABRAND  AZEILPL  \\\n",
              "0       3       5  ...       0         0        0        0       1        0   \n",
              "1       4       5  ...       2         0        0        0       1        0   \n",
              "2       3       5  ...       1         0        0        0       1        0   \n",
              "3       4       5  ...       0         0        0        0       1        0   \n",
              "4       7       9  ...       0         0        0        0       1        0   \n",
              "\n",
              "   APLEZIER  AFIETS  AINBOED  ABYSTAND  \n",
              "0         0       0        0         0  \n",
              "1         0       0        0         0  \n",
              "2         0       0        0         0  \n",
              "3         0       0        0         0  \n",
              "4         0       0        0         0  \n",
              "\n",
              "[5 rows x 85 columns]"
            ],
            "text/html": [
              "\n",
              "  <div id=\"df-0acfd3e7-eda5-40a1-b838-c9c6f28886ac\">\n",
              "    <div class=\"colab-df-container\">\n",
              "      <div>\n",
              "<style scoped>\n",
              "    .dataframe tbody tr th:only-of-type {\n",
              "        vertical-align: middle;\n",
              "    }\n",
              "\n",
              "    .dataframe tbody tr th {\n",
              "        vertical-align: top;\n",
              "    }\n",
              "\n",
              "    .dataframe thead th {\n",
              "        text-align: right;\n",
              "    }\n",
              "</style>\n",
              "<table border=\"1\" class=\"dataframe\">\n",
              "  <thead>\n",
              "    <tr style=\"text-align: right;\">\n",
              "      <th></th>\n",
              "      <th>MOSTYPE</th>\n",
              "      <th>MAANTHUI</th>\n",
              "      <th>MGEMOMV</th>\n",
              "      <th>MGEMLEEF</th>\n",
              "      <th>MOSHOOFD</th>\n",
              "      <th>MGODRK</th>\n",
              "      <th>MGODPR</th>\n",
              "      <th>MGODOV</th>\n",
              "      <th>MGODGE</th>\n",
              "      <th>MRELGE</th>\n",
              "      <th>...</th>\n",
              "      <th>ALEVEN</th>\n",
              "      <th>APERSONG</th>\n",
              "      <th>AGEZONG</th>\n",
              "      <th>AWAOREG</th>\n",
              "      <th>ABRAND</th>\n",
              "      <th>AZEILPL</th>\n",
              "      <th>APLEZIER</th>\n",
              "      <th>AFIETS</th>\n",
              "      <th>AINBOED</th>\n",
              "      <th>ABYSTAND</th>\n",
              "    </tr>\n",
              "  </thead>\n",
              "  <tbody>\n",
              "    <tr>\n",
              "      <th>0</th>\n",
              "      <td>33</td>\n",
              "      <td>1</td>\n",
              "      <td>4</td>\n",
              "      <td>2</td>\n",
              "      <td>8</td>\n",
              "      <td>0</td>\n",
              "      <td>6</td>\n",
              "      <td>0</td>\n",
              "      <td>3</td>\n",
              "      <td>5</td>\n",
              "      <td>...</td>\n",
              "      <td>0</td>\n",
              "      <td>0</td>\n",
              "      <td>0</td>\n",
              "      <td>0</td>\n",
              "      <td>1</td>\n",
              "      <td>0</td>\n",
              "      <td>0</td>\n",
              "      <td>0</td>\n",
              "      <td>0</td>\n",
              "      <td>0</td>\n",
              "    </tr>\n",
              "    <tr>\n",
              "      <th>1</th>\n",
              "      <td>6</td>\n",
              "      <td>1</td>\n",
              "      <td>3</td>\n",
              "      <td>2</td>\n",
              "      <td>2</td>\n",
              "      <td>0</td>\n",
              "      <td>5</td>\n",
              "      <td>0</td>\n",
              "      <td>4</td>\n",
              "      <td>5</td>\n",
              "      <td>...</td>\n",
              "      <td>2</td>\n",
              "      <td>0</td>\n",
              "      <td>0</td>\n",
              "      <td>0</td>\n",
              "      <td>1</td>\n",
              "      <td>0</td>\n",
              "      <td>0</td>\n",
              "      <td>0</td>\n",
              "      <td>0</td>\n",
              "      <td>0</td>\n",
              "    </tr>\n",
              "    <tr>\n",
              "      <th>2</th>\n",
              "      <td>39</td>\n",
              "      <td>1</td>\n",
              "      <td>3</td>\n",
              "      <td>3</td>\n",
              "      <td>9</td>\n",
              "      <td>1</td>\n",
              "      <td>4</td>\n",
              "      <td>2</td>\n",
              "      <td>3</td>\n",
              "      <td>5</td>\n",
              "      <td>...</td>\n",
              "      <td>1</td>\n",
              "      <td>0</td>\n",
              "      <td>0</td>\n",
              "      <td>0</td>\n",
              "      <td>1</td>\n",
              "      <td>0</td>\n",
              "      <td>0</td>\n",
              "      <td>0</td>\n",
              "      <td>0</td>\n",
              "      <td>0</td>\n",
              "    </tr>\n",
              "    <tr>\n",
              "      <th>3</th>\n",
              "      <td>9</td>\n",
              "      <td>1</td>\n",
              "      <td>2</td>\n",
              "      <td>3</td>\n",
              "      <td>3</td>\n",
              "      <td>2</td>\n",
              "      <td>3</td>\n",
              "      <td>2</td>\n",
              "      <td>4</td>\n",
              "      <td>5</td>\n",
              "      <td>...</td>\n",
              "      <td>0</td>\n",
              "      <td>0</td>\n",
              "      <td>0</td>\n",
              "      <td>0</td>\n",
              "      <td>1</td>\n",
              "      <td>0</td>\n",
              "      <td>0</td>\n",
              "      <td>0</td>\n",
              "      <td>0</td>\n",
              "      <td>0</td>\n",
              "    </tr>\n",
              "    <tr>\n",
              "      <th>4</th>\n",
              "      <td>31</td>\n",
              "      <td>1</td>\n",
              "      <td>2</td>\n",
              "      <td>4</td>\n",
              "      <td>7</td>\n",
              "      <td>0</td>\n",
              "      <td>2</td>\n",
              "      <td>0</td>\n",
              "      <td>7</td>\n",
              "      <td>9</td>\n",
              "      <td>...</td>\n",
              "      <td>0</td>\n",
              "      <td>0</td>\n",
              "      <td>0</td>\n",
              "      <td>0</td>\n",
              "      <td>1</td>\n",
              "      <td>0</td>\n",
              "      <td>0</td>\n",
              "      <td>0</td>\n",
              "      <td>0</td>\n",
              "      <td>0</td>\n",
              "    </tr>\n",
              "  </tbody>\n",
              "</table>\n",
              "<p>5 rows × 85 columns</p>\n",
              "</div>\n",
              "      <button class=\"colab-df-convert\" onclick=\"convertToInteractive('df-0acfd3e7-eda5-40a1-b838-c9c6f28886ac')\"\n",
              "              title=\"Convert this dataframe to an interactive table.\"\n",
              "              style=\"display:none;\">\n",
              "        \n",
              "  <svg xmlns=\"http://www.w3.org/2000/svg\" height=\"24px\"viewBox=\"0 0 24 24\"\n",
              "       width=\"24px\">\n",
              "    <path d=\"M0 0h24v24H0V0z\" fill=\"none\"/>\n",
              "    <path d=\"M18.56 5.44l.94 2.06.94-2.06 2.06-.94-2.06-.94-.94-2.06-.94 2.06-2.06.94zm-11 1L8.5 8.5l.94-2.06 2.06-.94-2.06-.94L8.5 2.5l-.94 2.06-2.06.94zm10 10l.94 2.06.94-2.06 2.06-.94-2.06-.94-.94-2.06-.94 2.06-2.06.94z\"/><path d=\"M17.41 7.96l-1.37-1.37c-.4-.4-.92-.59-1.43-.59-.52 0-1.04.2-1.43.59L10.3 9.45l-7.72 7.72c-.78.78-.78 2.05 0 2.83L4 21.41c.39.39.9.59 1.41.59.51 0 1.02-.2 1.41-.59l7.78-7.78 2.81-2.81c.8-.78.8-2.07 0-2.86zM5.41 20L4 18.59l7.72-7.72 1.47 1.35L5.41 20z\"/>\n",
              "  </svg>\n",
              "      </button>\n",
              "      \n",
              "  <style>\n",
              "    .colab-df-container {\n",
              "      display:flex;\n",
              "      flex-wrap:wrap;\n",
              "      gap: 12px;\n",
              "    }\n",
              "\n",
              "    .colab-df-convert {\n",
              "      background-color: #E8F0FE;\n",
              "      border: none;\n",
              "      border-radius: 50%;\n",
              "      cursor: pointer;\n",
              "      display: none;\n",
              "      fill: #1967D2;\n",
              "      height: 32px;\n",
              "      padding: 0 0 0 0;\n",
              "      width: 32px;\n",
              "    }\n",
              "\n",
              "    .colab-df-convert:hover {\n",
              "      background-color: #E2EBFA;\n",
              "      box-shadow: 0px 1px 2px rgba(60, 64, 67, 0.3), 0px 1px 3px 1px rgba(60, 64, 67, 0.15);\n",
              "      fill: #174EA6;\n",
              "    }\n",
              "\n",
              "    [theme=dark] .colab-df-convert {\n",
              "      background-color: #3B4455;\n",
              "      fill: #D2E3FC;\n",
              "    }\n",
              "\n",
              "    [theme=dark] .colab-df-convert:hover {\n",
              "      background-color: #434B5C;\n",
              "      box-shadow: 0px 1px 3px 1px rgba(0, 0, 0, 0.15);\n",
              "      filter: drop-shadow(0px 1px 2px rgba(0, 0, 0, 0.3));\n",
              "      fill: #FFFFFF;\n",
              "    }\n",
              "  </style>\n",
              "\n",
              "      <script>\n",
              "        const buttonEl =\n",
              "          document.querySelector('#df-0acfd3e7-eda5-40a1-b838-c9c6f28886ac button.colab-df-convert');\n",
              "        buttonEl.style.display =\n",
              "          google.colab.kernel.accessAllowed ? 'block' : 'none';\n",
              "\n",
              "        async function convertToInteractive(key) {\n",
              "          const element = document.querySelector('#df-0acfd3e7-eda5-40a1-b838-c9c6f28886ac');\n",
              "          const dataTable =\n",
              "            await google.colab.kernel.invokeFunction('convertToInteractive',\n",
              "                                                     [key], {});\n",
              "          if (!dataTable) return;\n",
              "\n",
              "          const docLinkHtml = 'Like what you see? Visit the ' +\n",
              "            '<a target=\"_blank\" href=https://colab.research.google.com/notebooks/data_table.ipynb>data table notebook</a>'\n",
              "            + ' to learn more about interactive tables.';\n",
              "          element.innerHTML = '';\n",
              "          dataTable['output_type'] = 'display_data';\n",
              "          await google.colab.output.renderOutput(dataTable, element);\n",
              "          const docLink = document.createElement('div');\n",
              "          docLink.innerHTML = docLinkHtml;\n",
              "          element.appendChild(docLink);\n",
              "        }\n",
              "      </script>\n",
              "    </div>\n",
              "  </div>\n",
              "  "
            ]
          },
          "metadata": {},
          "execution_count": 4
        }
      ]
    },
    {
      "cell_type": "code",
      "source": [
        "df.info()"
      ],
      "metadata": {
        "colab": {
          "base_uri": "https://localhost:8080/"
        },
        "id": "RUPglxK2GaOL",
        "outputId": "a245f3cb-49d6-4986-e83b-9d821f64517f"
      },
      "execution_count": 5,
      "outputs": [
        {
          "output_type": "stream",
          "name": "stdout",
          "text": [
            "<class 'pandas.core.frame.DataFrame'>\n",
            "RangeIndex: 4000 entries, 0 to 3999\n",
            "Data columns (total 85 columns):\n",
            " #   Column    Non-Null Count  Dtype\n",
            "---  ------    --------------  -----\n",
            " 0   MOSTYPE   4000 non-null   int64\n",
            " 1   MAANTHUI  4000 non-null   int64\n",
            " 2   MGEMOMV   4000 non-null   int64\n",
            " 3   MGEMLEEF  4000 non-null   int64\n",
            " 4   MOSHOOFD  4000 non-null   int64\n",
            " 5   MGODRK    4000 non-null   int64\n",
            " 6   MGODPR    4000 non-null   int64\n",
            " 7   MGODOV    4000 non-null   int64\n",
            " 8   MGODGE    4000 non-null   int64\n",
            " 9   MRELGE    4000 non-null   int64\n",
            " 10  MRELSA    4000 non-null   int64\n",
            " 11  MRELOV    4000 non-null   int64\n",
            " 12  MFALLEEN  4000 non-null   int64\n",
            " 13  MFGEKIND  4000 non-null   int64\n",
            " 14  MFWEKIND  4000 non-null   int64\n",
            " 15  MOPLHOOG  4000 non-null   int64\n",
            " 16  MOPLMIDD  4000 non-null   int64\n",
            " 17  MOPLLAAG  4000 non-null   int64\n",
            " 18  MBERHOOG  4000 non-null   int64\n",
            " 19  MBERZELF  4000 non-null   int64\n",
            " 20  MBERBOER  4000 non-null   int64\n",
            " 21  MBERMIDD  4000 non-null   int64\n",
            " 22  MBERARBG  4000 non-null   int64\n",
            " 23  MBERARBO  4000 non-null   int64\n",
            " 24  MSKA      4000 non-null   int64\n",
            " 25  MSKB1     4000 non-null   int64\n",
            " 26  MSKB2     4000 non-null   int64\n",
            " 27  MSKC      4000 non-null   int64\n",
            " 28  MSKD      4000 non-null   int64\n",
            " 29  MHHUUR    4000 non-null   int64\n",
            " 30  MHKOOP    4000 non-null   int64\n",
            " 31  MAUT1     4000 non-null   int64\n",
            " 32  MAUT2     4000 non-null   int64\n",
            " 33  MAUT0     4000 non-null   int64\n",
            " 34  MZFONDS   4000 non-null   int64\n",
            " 35  MZPART    4000 non-null   int64\n",
            " 36  MINKM30   4000 non-null   int64\n",
            " 37  MINK3045  4000 non-null   int64\n",
            " 38  MINK4575  4000 non-null   int64\n",
            " 39  MINK7512  4000 non-null   int64\n",
            " 40  MINK123M  4000 non-null   int64\n",
            " 41  MINKGEM   4000 non-null   int64\n",
            " 42  MKOOPKLA  4000 non-null   int64\n",
            " 43  PWAPART   4000 non-null   int64\n",
            " 44  PWABEDR   4000 non-null   int64\n",
            " 45  PWALAND   4000 non-null   int64\n",
            " 46  PPERSAUT  4000 non-null   int64\n",
            " 47  PBESAUT   4000 non-null   int64\n",
            " 48  PMOTSCO   4000 non-null   int64\n",
            " 49  PVRAAUT   4000 non-null   int64\n",
            " 50  PAANHANG  4000 non-null   int64\n",
            " 51  PTRACTOR  4000 non-null   int64\n",
            " 52  PWERKT    4000 non-null   int64\n",
            " 53  PBROM     4000 non-null   int64\n",
            " 54  PLEVEN    4000 non-null   int64\n",
            " 55  PPERSONG  4000 non-null   int64\n",
            " 56  PGEZONG   4000 non-null   int64\n",
            " 57  PWAOREG   4000 non-null   int64\n",
            " 58  PBRAND    4000 non-null   int64\n",
            " 59  PZEILPL   4000 non-null   int64\n",
            " 60  PPLEZIER  4000 non-null   int64\n",
            " 61  PFIETS    4000 non-null   int64\n",
            " 62  PINBOED   4000 non-null   int64\n",
            " 63  PBYSTAND  4000 non-null   int64\n",
            " 64  AWAPART   4000 non-null   int64\n",
            " 65  AWABEDR   4000 non-null   int64\n",
            " 66  AWALAND   4000 non-null   int64\n",
            " 67  APERSAUT  4000 non-null   int64\n",
            " 68  ABESAUT   4000 non-null   int64\n",
            " 69  AMOTSCO   4000 non-null   int64\n",
            " 70  AVRAAUT   4000 non-null   int64\n",
            " 71  AAANHANG  4000 non-null   int64\n",
            " 72  ATRACTOR  4000 non-null   int64\n",
            " 73  AWERKT    4000 non-null   int64\n",
            " 74  ABROM     4000 non-null   int64\n",
            " 75  ALEVEN    4000 non-null   int64\n",
            " 76  APERSONG  4000 non-null   int64\n",
            " 77  AGEZONG   4000 non-null   int64\n",
            " 78  AWAOREG   4000 non-null   int64\n",
            " 79  ABRAND    4000 non-null   int64\n",
            " 80  AZEILPL   4000 non-null   int64\n",
            " 81  APLEZIER  4000 non-null   int64\n",
            " 82  AFIETS    4000 non-null   int64\n",
            " 83  AINBOED   4000 non-null   int64\n",
            " 84  ABYSTAND  4000 non-null   int64\n",
            "dtypes: int64(85)\n",
            "memory usage: 2.6 MB\n"
          ]
        }
      ]
    },
    {
      "cell_type": "code",
      "source": [
        "df.isnull().sum()"
      ],
      "metadata": {
        "colab": {
          "base_uri": "https://localhost:8080/"
        },
        "id": "hyVALRdhG7si",
        "outputId": "047f43cf-72ba-4100-fcec-b235442883d2"
      },
      "execution_count": 7,
      "outputs": [
        {
          "output_type": "execute_result",
          "data": {
            "text/plain": [
              "MOSTYPE     0\n",
              "MAANTHUI    0\n",
              "MGEMOMV     0\n",
              "MGEMLEEF    0\n",
              "MOSHOOFD    0\n",
              "           ..\n",
              "AZEILPL     0\n",
              "APLEZIER    0\n",
              "AFIETS      0\n",
              "AINBOED     0\n",
              "ABYSTAND    0\n",
              "Length: 85, dtype: int64"
            ]
          },
          "metadata": {},
          "execution_count": 7
        }
      ]
    },
    {
      "cell_type": "code",
      "source": [
        "df.describe()"
      ],
      "metadata": {
        "colab": {
          "base_uri": "https://localhost:8080/",
          "height": 393
        },
        "id": "u8so7JY5KVtq",
        "outputId": "7a5c0515-6732-49a6-cbef-50f8c81fca6a"
      },
      "execution_count": 8,
      "outputs": [
        {
          "output_type": "execute_result",
          "data": {
            "text/plain": [
              "           MOSTYPE    MAANTHUI      MGEMOMV     MGEMLEEF     MOSHOOFD  \\\n",
              "count  4000.000000  4000.00000  4000.000000  4000.000000  4000.000000   \n",
              "mean     24.253000     1.10600     2.675750     3.004000     5.787000   \n",
              "std      13.022822     0.42108     0.767306     0.790025     2.899609   \n",
              "min       1.000000     1.00000     1.000000     1.000000     1.000000   \n",
              "25%      10.000000     1.00000     2.000000     3.000000     3.000000   \n",
              "50%      30.000000     1.00000     3.000000     3.000000     7.000000   \n",
              "75%      35.000000     1.00000     3.000000     3.000000     8.000000   \n",
              "max      41.000000    10.00000     6.000000     6.000000    10.000000   \n",
              "\n",
              "            MGODRK       MGODPR       MGODOV       MGODGE       MRELGE  ...  \\\n",
              "count  4000.000000  4000.000000  4000.000000  4000.000000  4000.000000  ...   \n",
              "mean      0.706750     4.653250     1.021250     3.269500     6.197000  ...   \n",
              "std       1.032241     1.729093     1.001274     1.618958     1.876585  ...   \n",
              "min       0.000000     0.000000     0.000000     0.000000     0.000000  ...   \n",
              "25%       0.000000     4.000000     0.000000     2.000000     5.000000  ...   \n",
              "50%       0.000000     5.000000     1.000000     3.000000     6.000000  ...   \n",
              "75%       1.000000     6.000000     2.000000     4.000000     7.000000  ...   \n",
              "max       9.000000     9.000000     5.000000     9.000000     9.000000  ...   \n",
              "\n",
              "            ALEVEN     APERSONG      AGEZONG     AWAOREG       ABRAND  \\\n",
              "count  4000.000000  4000.000000  4000.000000  4000.00000  4000.000000   \n",
              "mean      0.084500     0.003500     0.010000     0.00375     0.579750   \n",
              "std       0.394206     0.059065     0.099511     0.06113     0.560106   \n",
              "min       0.000000     0.000000     0.000000     0.00000     0.000000   \n",
              "25%       0.000000     0.000000     0.000000     0.00000     0.000000   \n",
              "50%       0.000000     0.000000     0.000000     0.00000     1.000000   \n",
              "75%       0.000000     0.000000     0.000000     0.00000     1.000000   \n",
              "max       5.000000     1.000000     1.000000     1.00000     6.000000   \n",
              "\n",
              "           AZEILPL     APLEZIER       AFIETS      AINBOED     ABYSTAND  \n",
              "count  4000.000000  4000.000000  4000.000000  4000.000000  4000.000000  \n",
              "mean      0.001500     0.003750     0.031000     0.009250     0.013250  \n",
              "std       0.038706     0.072369     0.206276     0.095743     0.114358  \n",
              "min       0.000000     0.000000     0.000000     0.000000     0.000000  \n",
              "25%       0.000000     0.000000     0.000000     0.000000     0.000000  \n",
              "50%       0.000000     0.000000     0.000000     0.000000     0.000000  \n",
              "75%       0.000000     0.000000     0.000000     0.000000     0.000000  \n",
              "max       1.000000     2.000000     4.000000     1.000000     1.000000  \n",
              "\n",
              "[8 rows x 85 columns]"
            ],
            "text/html": [
              "\n",
              "  <div id=\"df-2008dded-4c2b-484a-9c9d-7f487933b818\">\n",
              "    <div class=\"colab-df-container\">\n",
              "      <div>\n",
              "<style scoped>\n",
              "    .dataframe tbody tr th:only-of-type {\n",
              "        vertical-align: middle;\n",
              "    }\n",
              "\n",
              "    .dataframe tbody tr th {\n",
              "        vertical-align: top;\n",
              "    }\n",
              "\n",
              "    .dataframe thead th {\n",
              "        text-align: right;\n",
              "    }\n",
              "</style>\n",
              "<table border=\"1\" class=\"dataframe\">\n",
              "  <thead>\n",
              "    <tr style=\"text-align: right;\">\n",
              "      <th></th>\n",
              "      <th>MOSTYPE</th>\n",
              "      <th>MAANTHUI</th>\n",
              "      <th>MGEMOMV</th>\n",
              "      <th>MGEMLEEF</th>\n",
              "      <th>MOSHOOFD</th>\n",
              "      <th>MGODRK</th>\n",
              "      <th>MGODPR</th>\n",
              "      <th>MGODOV</th>\n",
              "      <th>MGODGE</th>\n",
              "      <th>MRELGE</th>\n",
              "      <th>...</th>\n",
              "      <th>ALEVEN</th>\n",
              "      <th>APERSONG</th>\n",
              "      <th>AGEZONG</th>\n",
              "      <th>AWAOREG</th>\n",
              "      <th>ABRAND</th>\n",
              "      <th>AZEILPL</th>\n",
              "      <th>APLEZIER</th>\n",
              "      <th>AFIETS</th>\n",
              "      <th>AINBOED</th>\n",
              "      <th>ABYSTAND</th>\n",
              "    </tr>\n",
              "  </thead>\n",
              "  <tbody>\n",
              "    <tr>\n",
              "      <th>count</th>\n",
              "      <td>4000.000000</td>\n",
              "      <td>4000.00000</td>\n",
              "      <td>4000.000000</td>\n",
              "      <td>4000.000000</td>\n",
              "      <td>4000.000000</td>\n",
              "      <td>4000.000000</td>\n",
              "      <td>4000.000000</td>\n",
              "      <td>4000.000000</td>\n",
              "      <td>4000.000000</td>\n",
              "      <td>4000.000000</td>\n",
              "      <td>...</td>\n",
              "      <td>4000.000000</td>\n",
              "      <td>4000.000000</td>\n",
              "      <td>4000.000000</td>\n",
              "      <td>4000.00000</td>\n",
              "      <td>4000.000000</td>\n",
              "      <td>4000.000000</td>\n",
              "      <td>4000.000000</td>\n",
              "      <td>4000.000000</td>\n",
              "      <td>4000.000000</td>\n",
              "      <td>4000.000000</td>\n",
              "    </tr>\n",
              "    <tr>\n",
              "      <th>mean</th>\n",
              "      <td>24.253000</td>\n",
              "      <td>1.10600</td>\n",
              "      <td>2.675750</td>\n",
              "      <td>3.004000</td>\n",
              "      <td>5.787000</td>\n",
              "      <td>0.706750</td>\n",
              "      <td>4.653250</td>\n",
              "      <td>1.021250</td>\n",
              "      <td>3.269500</td>\n",
              "      <td>6.197000</td>\n",
              "      <td>...</td>\n",
              "      <td>0.084500</td>\n",
              "      <td>0.003500</td>\n",
              "      <td>0.010000</td>\n",
              "      <td>0.00375</td>\n",
              "      <td>0.579750</td>\n",
              "      <td>0.001500</td>\n",
              "      <td>0.003750</td>\n",
              "      <td>0.031000</td>\n",
              "      <td>0.009250</td>\n",
              "      <td>0.013250</td>\n",
              "    </tr>\n",
              "    <tr>\n",
              "      <th>std</th>\n",
              "      <td>13.022822</td>\n",
              "      <td>0.42108</td>\n",
              "      <td>0.767306</td>\n",
              "      <td>0.790025</td>\n",
              "      <td>2.899609</td>\n",
              "      <td>1.032241</td>\n",
              "      <td>1.729093</td>\n",
              "      <td>1.001274</td>\n",
              "      <td>1.618958</td>\n",
              "      <td>1.876585</td>\n",
              "      <td>...</td>\n",
              "      <td>0.394206</td>\n",
              "      <td>0.059065</td>\n",
              "      <td>0.099511</td>\n",
              "      <td>0.06113</td>\n",
              "      <td>0.560106</td>\n",
              "      <td>0.038706</td>\n",
              "      <td>0.072369</td>\n",
              "      <td>0.206276</td>\n",
              "      <td>0.095743</td>\n",
              "      <td>0.114358</td>\n",
              "    </tr>\n",
              "    <tr>\n",
              "      <th>min</th>\n",
              "      <td>1.000000</td>\n",
              "      <td>1.00000</td>\n",
              "      <td>1.000000</td>\n",
              "      <td>1.000000</td>\n",
              "      <td>1.000000</td>\n",
              "      <td>0.000000</td>\n",
              "      <td>0.000000</td>\n",
              "      <td>0.000000</td>\n",
              "      <td>0.000000</td>\n",
              "      <td>0.000000</td>\n",
              "      <td>...</td>\n",
              "      <td>0.000000</td>\n",
              "      <td>0.000000</td>\n",
              "      <td>0.000000</td>\n",
              "      <td>0.00000</td>\n",
              "      <td>0.000000</td>\n",
              "      <td>0.000000</td>\n",
              "      <td>0.000000</td>\n",
              "      <td>0.000000</td>\n",
              "      <td>0.000000</td>\n",
              "      <td>0.000000</td>\n",
              "    </tr>\n",
              "    <tr>\n",
              "      <th>25%</th>\n",
              "      <td>10.000000</td>\n",
              "      <td>1.00000</td>\n",
              "      <td>2.000000</td>\n",
              "      <td>3.000000</td>\n",
              "      <td>3.000000</td>\n",
              "      <td>0.000000</td>\n",
              "      <td>4.000000</td>\n",
              "      <td>0.000000</td>\n",
              "      <td>2.000000</td>\n",
              "      <td>5.000000</td>\n",
              "      <td>...</td>\n",
              "      <td>0.000000</td>\n",
              "      <td>0.000000</td>\n",
              "      <td>0.000000</td>\n",
              "      <td>0.00000</td>\n",
              "      <td>0.000000</td>\n",
              "      <td>0.000000</td>\n",
              "      <td>0.000000</td>\n",
              "      <td>0.000000</td>\n",
              "      <td>0.000000</td>\n",
              "      <td>0.000000</td>\n",
              "    </tr>\n",
              "    <tr>\n",
              "      <th>50%</th>\n",
              "      <td>30.000000</td>\n",
              "      <td>1.00000</td>\n",
              "      <td>3.000000</td>\n",
              "      <td>3.000000</td>\n",
              "      <td>7.000000</td>\n",
              "      <td>0.000000</td>\n",
              "      <td>5.000000</td>\n",
              "      <td>1.000000</td>\n",
              "      <td>3.000000</td>\n",
              "      <td>6.000000</td>\n",
              "      <td>...</td>\n",
              "      <td>0.000000</td>\n",
              "      <td>0.000000</td>\n",
              "      <td>0.000000</td>\n",
              "      <td>0.00000</td>\n",
              "      <td>1.000000</td>\n",
              "      <td>0.000000</td>\n",
              "      <td>0.000000</td>\n",
              "      <td>0.000000</td>\n",
              "      <td>0.000000</td>\n",
              "      <td>0.000000</td>\n",
              "    </tr>\n",
              "    <tr>\n",
              "      <th>75%</th>\n",
              "      <td>35.000000</td>\n",
              "      <td>1.00000</td>\n",
              "      <td>3.000000</td>\n",
              "      <td>3.000000</td>\n",
              "      <td>8.000000</td>\n",
              "      <td>1.000000</td>\n",
              "      <td>6.000000</td>\n",
              "      <td>2.000000</td>\n",
              "      <td>4.000000</td>\n",
              "      <td>7.000000</td>\n",
              "      <td>...</td>\n",
              "      <td>0.000000</td>\n",
              "      <td>0.000000</td>\n",
              "      <td>0.000000</td>\n",
              "      <td>0.00000</td>\n",
              "      <td>1.000000</td>\n",
              "      <td>0.000000</td>\n",
              "      <td>0.000000</td>\n",
              "      <td>0.000000</td>\n",
              "      <td>0.000000</td>\n",
              "      <td>0.000000</td>\n",
              "    </tr>\n",
              "    <tr>\n",
              "      <th>max</th>\n",
              "      <td>41.000000</td>\n",
              "      <td>10.00000</td>\n",
              "      <td>6.000000</td>\n",
              "      <td>6.000000</td>\n",
              "      <td>10.000000</td>\n",
              "      <td>9.000000</td>\n",
              "      <td>9.000000</td>\n",
              "      <td>5.000000</td>\n",
              "      <td>9.000000</td>\n",
              "      <td>9.000000</td>\n",
              "      <td>...</td>\n",
              "      <td>5.000000</td>\n",
              "      <td>1.000000</td>\n",
              "      <td>1.000000</td>\n",
              "      <td>1.00000</td>\n",
              "      <td>6.000000</td>\n",
              "      <td>1.000000</td>\n",
              "      <td>2.000000</td>\n",
              "      <td>4.000000</td>\n",
              "      <td>1.000000</td>\n",
              "      <td>1.000000</td>\n",
              "    </tr>\n",
              "  </tbody>\n",
              "</table>\n",
              "<p>8 rows × 85 columns</p>\n",
              "</div>\n",
              "      <button class=\"colab-df-convert\" onclick=\"convertToInteractive('df-2008dded-4c2b-484a-9c9d-7f487933b818')\"\n",
              "              title=\"Convert this dataframe to an interactive table.\"\n",
              "              style=\"display:none;\">\n",
              "        \n",
              "  <svg xmlns=\"http://www.w3.org/2000/svg\" height=\"24px\"viewBox=\"0 0 24 24\"\n",
              "       width=\"24px\">\n",
              "    <path d=\"M0 0h24v24H0V0z\" fill=\"none\"/>\n",
              "    <path d=\"M18.56 5.44l.94 2.06.94-2.06 2.06-.94-2.06-.94-.94-2.06-.94 2.06-2.06.94zm-11 1L8.5 8.5l.94-2.06 2.06-.94-2.06-.94L8.5 2.5l-.94 2.06-2.06.94zm10 10l.94 2.06.94-2.06 2.06-.94-2.06-.94-.94-2.06-.94 2.06-2.06.94z\"/><path d=\"M17.41 7.96l-1.37-1.37c-.4-.4-.92-.59-1.43-.59-.52 0-1.04.2-1.43.59L10.3 9.45l-7.72 7.72c-.78.78-.78 2.05 0 2.83L4 21.41c.39.39.9.59 1.41.59.51 0 1.02-.2 1.41-.59l7.78-7.78 2.81-2.81c.8-.78.8-2.07 0-2.86zM5.41 20L4 18.59l7.72-7.72 1.47 1.35L5.41 20z\"/>\n",
              "  </svg>\n",
              "      </button>\n",
              "      \n",
              "  <style>\n",
              "    .colab-df-container {\n",
              "      display:flex;\n",
              "      flex-wrap:wrap;\n",
              "      gap: 12px;\n",
              "    }\n",
              "\n",
              "    .colab-df-convert {\n",
              "      background-color: #E8F0FE;\n",
              "      border: none;\n",
              "      border-radius: 50%;\n",
              "      cursor: pointer;\n",
              "      display: none;\n",
              "      fill: #1967D2;\n",
              "      height: 32px;\n",
              "      padding: 0 0 0 0;\n",
              "      width: 32px;\n",
              "    }\n",
              "\n",
              "    .colab-df-convert:hover {\n",
              "      background-color: #E2EBFA;\n",
              "      box-shadow: 0px 1px 2px rgba(60, 64, 67, 0.3), 0px 1px 3px 1px rgba(60, 64, 67, 0.15);\n",
              "      fill: #174EA6;\n",
              "    }\n",
              "\n",
              "    [theme=dark] .colab-df-convert {\n",
              "      background-color: #3B4455;\n",
              "      fill: #D2E3FC;\n",
              "    }\n",
              "\n",
              "    [theme=dark] .colab-df-convert:hover {\n",
              "      background-color: #434B5C;\n",
              "      box-shadow: 0px 1px 3px 1px rgba(0, 0, 0, 0.15);\n",
              "      filter: drop-shadow(0px 1px 2px rgba(0, 0, 0, 0.3));\n",
              "      fill: #FFFFFF;\n",
              "    }\n",
              "  </style>\n",
              "\n",
              "      <script>\n",
              "        const buttonEl =\n",
              "          document.querySelector('#df-2008dded-4c2b-484a-9c9d-7f487933b818 button.colab-df-convert');\n",
              "        buttonEl.style.display =\n",
              "          google.colab.kernel.accessAllowed ? 'block' : 'none';\n",
              "\n",
              "        async function convertToInteractive(key) {\n",
              "          const element = document.querySelector('#df-2008dded-4c2b-484a-9c9d-7f487933b818');\n",
              "          const dataTable =\n",
              "            await google.colab.kernel.invokeFunction('convertToInteractive',\n",
              "                                                     [key], {});\n",
              "          if (!dataTable) return;\n",
              "\n",
              "          const docLinkHtml = 'Like what you see? Visit the ' +\n",
              "            '<a target=\"_blank\" href=https://colab.research.google.com/notebooks/data_table.ipynb>data table notebook</a>'\n",
              "            + ' to learn more about interactive tables.';\n",
              "          element.innerHTML = '';\n",
              "          dataTable['output_type'] = 'display_data';\n",
              "          await google.colab.output.renderOutput(dataTable, element);\n",
              "          const docLink = document.createElement('div');\n",
              "          docLink.innerHTML = docLinkHtml;\n",
              "          element.appendChild(docLink);\n",
              "        }\n",
              "      </script>\n",
              "    </div>\n",
              "  </div>\n",
              "  "
            ]
          },
          "metadata": {},
          "execution_count": 8
        }
      ]
    },
    {
      "cell_type": "markdown",
      "metadata": {
        "id": "ZmPwepcpdYLK"
      },
      "source": [
        "# 2. Apply Data Pre processing\n",
        "# Drop unnecessary columns"
      ]
    },
    {
      "cell_type": "code",
      "source": [
        "# Renaming columns\n",
        "df.columns = [\"Attribute \" + str(i) for i in range(1, len(df.columns)+1)]\n",
        "\n",
        "# Dropping redundant columns\n",
        "df = df.drop([\"Attribute 37\", \"Attribute 38\"], axis=1)\n",
        "\n",
        "# Checking for missing values\n",
        "print(df.isnull().sum())\n",
        "\n",
        "# Converting categorical variables to numerical variables\n",
        "cat_vars = [\"Attribute 2\", \"Attribute 7\", \"Attribute 8\", \"Attribute 9\", \"Attribute 10\", \n",
        "            \"Attribute 11\", \"Attribute 17\", \"Attribute 18\", \"Attribute 19\", \"Attribute 20\", \n",
        "            \"Attribute 21\", \"Attribute 22\", \"Attribute 23\", \"Attribute 24\", \"Attribute 25\", \n",
        "            \"Attribute 26\", \"Attribute 27\", \"Attribute 28\", \"Attribute 29\", \"Attribute 30\", \n",
        "            \"Attribute 31\", \"Attribute 32\", \"Attribute 33\", \"Attribute 34\", \"Attribute 35\"]\n",
        "df[cat_vars] = df[cat_vars].apply(lambda x: pd.factorize(x)[0])\n"
      ],
      "metadata": {
        "colab": {
          "base_uri": "https://localhost:8080/"
        },
        "id": "NNqMUDBHnkni",
        "outputId": "e1dc15c7-d00b-4954-b8a0-a1dbb8d0ef06"
      },
      "execution_count": null,
      "outputs": [
        {
          "output_type": "stream",
          "name": "stdout",
          "text": [
            "Attribute 1     0\n",
            "Attribute 2     0\n",
            "Attribute 3     0\n",
            "Attribute 4     0\n",
            "Attribute 5     0\n",
            "               ..\n",
            "Attribute 81    0\n",
            "Attribute 82    0\n",
            "Attribute 83    0\n",
            "Attribute 84    0\n",
            "Attribute 85    0\n",
            "Length: 83, dtype: int64\n"
          ]
        }
      ]
    },
    {
      "cell_type": "markdown",
      "source": [
        "#Applying classification and regression models\n"
      ],
      "metadata": {
        "id": "w7QP4SP4n_7R"
      }
    },
    {
      "cell_type": "code",
      "source": [
        "from sklearn.model_selection import train_test_split\n",
        "from sklearn.metrics import accuracy_score, mean_squared_error\n",
        "from sklearn.linear_model import LinearRegression, LogisticRegression\n",
        "from sklearn.tree import DecisionTreeRegressor, DecisionTreeClassifier\n",
        "from sklearn.ensemble import RandomForestRegressor, RandomForestClassifier"
      ],
      "metadata": {
        "id": "auI8LjR4n5wC"
      },
      "execution_count": null,
      "outputs": []
    },
    {
      "cell_type": "code",
      "source": [
        "X = df.drop([\"Attribute 1\"], axis=1)\n",
        "y = df[\"Attribute 1\"]"
      ],
      "metadata": {
        "id": "XXXUxmJcoNiN"
      },
      "execution_count": null,
      "outputs": []
    },
    {
      "cell_type": "code",
      "source": [
        "# Splitting the data into train and test sets\n",
        "X_train, X_test, y_train, y_test = train_test_split(X, y, test_size=0.2, random_state=42)"
      ],
      "metadata": {
        "id": "N864dsbhoRu4"
      },
      "execution_count": null,
      "outputs": []
    },
    {
      "cell_type": "markdown",
      "source": [
        "#REGRESSION MODELS"
      ],
      "metadata": {
        "id": "moZwiw9bw6D9"
      }
    },
    {
      "cell_type": "markdown",
      "source": [
        "#1.Linear Regression"
      ],
      "metadata": {
        "id": "cLYu5-f3od85"
      }
    },
    {
      "cell_type": "code",
      "source": [
        "lin_reg = LinearRegression()\n",
        "lin_reg.fit(X_train, y_train)\n",
        "y_pred_lin_reg = lin_reg.predict(X_test)\n",
        "mse_lin_reg = mean_squared_error(y_test, y_pred_lin_reg)\n",
        "print(\"Linear Regression MSE:\", mse_lin_reg)"
      ],
      "metadata": {
        "colab": {
          "base_uri": "https://localhost:8080/"
        },
        "id": "k-lwFI23oaqd",
        "outputId": "5c02c7bb-c840-4567-d469-d39a614ca48d"
      },
      "execution_count": null,
      "outputs": [
        {
          "output_type": "stream",
          "name": "stdout",
          "text": [
            "Linear Regression MSE: 1.7803527638795618\n"
          ]
        }
      ]
    },
    {
      "cell_type": "markdown",
      "source": [
        "\n",
        "#2.Decision Tree Regressor"
      ],
      "metadata": {
        "id": "EdM33AYFomjy"
      }
    },
    {
      "cell_type": "code",
      "source": [
        "dt_reg = DecisionTreeRegressor()\n",
        "dt_reg.fit(X_train, y_train)\n",
        "y_pred_dt_reg = dt_reg.predict(X_test)\n",
        "mse_dt_reg = mean_squared_error(y_test, y_pred_dt_reg)\n",
        "print(\"Decision Tree Regressor MSE:\", mse_dt_reg)"
      ],
      "metadata": {
        "colab": {
          "base_uri": "https://localhost:8080/"
        },
        "id": "GnQRfXoHooov",
        "outputId": "00bb9341-bd5c-41d1-9338-370a71d93ced"
      },
      "execution_count": null,
      "outputs": [
        {
          "output_type": "stream",
          "name": "stdout",
          "text": [
            "Decision Tree Regressor MSE: 0.3103125\n"
          ]
        }
      ]
    },
    {
      "cell_type": "markdown",
      "source": [
        "#3.Random forest regressor"
      ],
      "metadata": {
        "id": "FRzzN5nlouvJ"
      }
    },
    {
      "cell_type": "code",
      "source": [
        "rf_reg = RandomForestRegressor()\n",
        "rf_reg.fit(X_train, y_train)\n",
        "y_pred_rf_reg = rf_reg.predict(X_test)\n",
        "mse_rf_reg = mean_squared_error(y_test, y_pred_rf_reg)\n",
        "print(\"Random Forest Regressor MSE:\", mse_rf_reg)"
      ],
      "metadata": {
        "colab": {
          "base_uri": "https://localhost:8080/"
        },
        "id": "QBw_6Whoot2V",
        "outputId": "c4662498-7b89-4dd1-af73-99138fb23ad3"
      },
      "execution_count": null,
      "outputs": [
        {
          "output_type": "stream",
          "name": "stdout",
          "text": [
            "Random Forest Regressor MSE: 0.17664657781887755\n"
          ]
        }
      ]
    },
    {
      "cell_type": "markdown",
      "source": [
        "#4.Support Vector Regressor"
      ],
      "metadata": {
        "id": "0mhkvebty75H"
      }
    },
    {
      "cell_type": "code",
      "source": [
        "from sklearn.svm import SVR\n",
        "from sklearn.metrics import mean_squared_error\n",
        "\n",
        "# Create SVR model\n",
        "svr_model = SVR(kernel='rbf', C=100, gamma=0.1, epsilon=.1)\n",
        "\n",
        "# Train SVR model\n",
        "svr_model.fit(X_train, y_train)\n",
        "\n",
        "# Predict using SVR model\n",
        "y_pred_svr = svr_model.predict(X_test)\n",
        "\n",
        "# Evaluate SVR model\n",
        "mse_svr = mean_squared_error(y_test, y_pred_svr)\n",
        "print(\"Mean Squared Error of SVR model:\", mse_svr)\n"
      ],
      "metadata": {
        "colab": {
          "base_uri": "https://localhost:8080/"
        },
        "id": "k83jvxhszQqd",
        "outputId": "fd17cb17-75cf-46ad-efc9-8e56f5897972"
      },
      "execution_count": null,
      "outputs": [
        {
          "output_type": "stream",
          "name": "stdout",
          "text": [
            "Mean Squared Error of SVR model: 93.11979032832795\n"
          ]
        }
      ]
    },
    {
      "cell_type": "markdown",
      "source": [
        "#5.Gradient Boosting Regressor:"
      ],
      "metadata": {
        "id": "7Ljs3hGTzVYn"
      }
    },
    {
      "cell_type": "code",
      "source": [
        "from sklearn.ensemble import GradientBoostingRegressor\n",
        "from sklearn.metrics import mean_squared_error\n",
        "\n",
        "# Create Gradient Boosting model\n",
        "gb_model = GradientBoostingRegressor(n_estimators=100, learning_rate=0.1, max_depth=3, random_state=42)\n",
        "\n",
        "# Train Gradient Boosting model\n",
        "gb_model.fit(X_train, y_train)\n",
        "\n",
        "# Predict using Gradient Boosting model\n",
        "y_pred_gb = gb_model.predict(X_test)\n",
        "\n",
        "# Evaluate Gradient Boosting model\n",
        "mse_gb = mean_squared_error(y_test, y_pred_gb)\n",
        "print(\"Mean Squared Error of Gradient Boosting model:\", mse_gb)\n"
      ],
      "metadata": {
        "colab": {
          "base_uri": "https://localhost:8080/"
        },
        "id": "I8nZT2EVzZ2_",
        "outputId": "47abd6d2-51c7-4e87-fb80-8b0e8abffedd"
      },
      "execution_count": null,
      "outputs": [
        {
          "output_type": "stream",
          "name": "stdout",
          "text": [
            "Mean Squared Error of Gradient Boosting model: 0.5489152591425015\n"
          ]
        }
      ]
    },
    {
      "cell_type": "markdown",
      "source": [
        "#CLASSIFICATION MODELS"
      ],
      "metadata": {
        "id": "yNLE4goHxkyz"
      }
    },
    {
      "cell_type": "markdown",
      "source": [
        "#1.Logistic Regression"
      ],
      "metadata": {
        "id": "GYpuSfEko1lx"
      }
    },
    {
      "cell_type": "code",
      "source": [
        "log_reg = LogisticRegression()\n",
        "log_reg.fit(X_train, y_train)\n",
        "y_pred_log_reg = log_reg.predict(X_test)\n",
        "accuracy_log_reg = accuracy_score(y_test, y_pred_log_reg)\n",
        "print(\"Logistic Regression Accuracy:\", accuracy_log_reg)"
      ],
      "metadata": {
        "colab": {
          "base_uri": "https://localhost:8080/"
        },
        "id": "uZA7bkQfo52Q",
        "outputId": "4c1f2e86-3199-4e67-893c-37f192022064"
      },
      "execution_count": null,
      "outputs": [
        {
          "output_type": "stream",
          "name": "stdout",
          "text": [
            "Logistic Regression Accuracy: 0.775\n"
          ]
        },
        {
          "output_type": "stream",
          "name": "stderr",
          "text": [
            "/usr/local/lib/python3.9/dist-packages/sklearn/linear_model/_logistic.py:458: ConvergenceWarning: lbfgs failed to converge (status=1):\n",
            "STOP: TOTAL NO. of ITERATIONS REACHED LIMIT.\n",
            "\n",
            "Increase the number of iterations (max_iter) or scale the data as shown in:\n",
            "    https://scikit-learn.org/stable/modules/preprocessing.html\n",
            "Please also refer to the documentation for alternative solver options:\n",
            "    https://scikit-learn.org/stable/modules/linear_model.html#logistic-regression\n",
            "  n_iter_i = _check_optimize_result(\n"
          ]
        }
      ]
    },
    {
      "cell_type": "markdown",
      "source": [
        "\n",
        "#2.Decision Tree Classifier"
      ],
      "metadata": {
        "id": "LHeEh13CpsCS"
      }
    },
    {
      "cell_type": "code",
      "source": [
        "dt_class = DecisionTreeClassifier()\n",
        "dt_class.fit(X_train, y_train)\n",
        "y_pred_dt_class = dt_class.predict(X_test)\n",
        "accuracy_dt_class = accuracy_score(y_test, y_pred_dt_class)\n",
        "print(\"Decision Tree Classifier Accuracy:\", accuracy_dt_class)"
      ],
      "metadata": {
        "colab": {
          "base_uri": "https://localhost:8080/"
        },
        "id": "rIwYTQtFpxDo",
        "outputId": "65039345-d13a-41e0-9228-7b852e054727"
      },
      "execution_count": null,
      "outputs": [
        {
          "output_type": "stream",
          "name": "stdout",
          "text": [
            "Decision Tree Classifier Accuracy: 0.9375\n"
          ]
        }
      ]
    },
    {
      "cell_type": "markdown",
      "source": [
        "#3.Random Forest Classifier"
      ],
      "metadata": {
        "id": "x4_NkccnqUUD"
      }
    },
    {
      "cell_type": "code",
      "source": [
        "rf_class = RandomForestClassifier()\n",
        "rf_class.fit(X_train, y_train)\n",
        "y_pred_rf_class = rf_class.predict(X_test)\n",
        "accuracy_rf_class = accuracy_score(y_test, y_pred_rf_class)\n",
        "print(\"Random Forest Classifier Accuracy:\", accuracy_rf_class)"
      ],
      "metadata": {
        "colab": {
          "base_uri": "https://localhost:8080/"
        },
        "id": "e2IrQ2a5qYFZ",
        "outputId": "9c4149f4-617e-4edc-fc24-8924debab224"
      },
      "execution_count": null,
      "outputs": [
        {
          "output_type": "stream",
          "name": "stdout",
          "text": [
            "Random Forest Classifier Accuracy: 0.90375\n"
          ]
        }
      ]
    },
    {
      "cell_type": "markdown",
      "source": [
        "#4.SUPPORT VECTOR MACHINES(SVM)"
      ],
      "metadata": {
        "id": "Itnj7tzByZOF"
      }
    },
    {
      "cell_type": "code",
      "source": [
        "from sklearn import svm\n",
        "from sklearn.metrics import accuracy_score\n",
        "\n",
        "# Create SVM classifier\n",
        "svm_classifier = svm.SVC(kernel='linear', C=1, random_state=42)\n",
        "\n",
        "# Train SVM classifier\n",
        "svm_classifier.fit(X_train, y_train)\n",
        "\n",
        "# Predict using SVM classifier\n",
        "y_pred_svm = svm_classifier.predict(X_test)\n",
        "\n",
        "# Evaluate SVM classifier\n",
        "accuracy_svm = accuracy_score(y_test, y_pred_svm)\n",
        "print(\"Accuracy of SVM classifier:\", accuracy_svm)\n"
      ],
      "metadata": {
        "colab": {
          "base_uri": "https://localhost:8080/"
        },
        "id": "PU697CADygMi",
        "outputId": "f8f0ed34-8b06-4c69-abc4-d1d13003a643"
      },
      "execution_count": null,
      "outputs": [
        {
          "output_type": "stream",
          "name": "stdout",
          "text": [
            "Accuracy of SVM classifier: 0.885\n"
          ]
        }
      ]
    },
    {
      "cell_type": "markdown",
      "source": [
        "#5.NAIVE BAYES CLASSIFIER"
      ],
      "metadata": {
        "id": "eC0t4FlQyqFg"
      }
    },
    {
      "cell_type": "code",
      "source": [
        "from sklearn.naive_bayes import GaussianNB\n",
        "from sklearn.metrics import accuracy_score\n",
        "\n",
        "# Create Naive Bayes classifier\n",
        "nb_classifier = GaussianNB()\n",
        "\n",
        "# Train Naive Bayes classifier\n",
        "nb_classifier.fit(X_train, y_train)\n",
        "\n",
        "# Predict using Naive Bayes classifier\n",
        "y_pred_nb = nb_classifier.predict(X_test)\n",
        "\n",
        "# Evaluate Naive Bayes classifier\n",
        "accuracy_nb = accuracy_score(y_test, y_pred_nb)\n",
        "print(\"Accuracy of Naive Bayes classifier:\", accuracy_nb)\n"
      ],
      "metadata": {
        "colab": {
          "base_uri": "https://localhost:8080/"
        },
        "id": "3DZXICWdyvAs",
        "outputId": "3132af9b-288f-4c7b-9870-af7f11db0e27"
      },
      "execution_count": null,
      "outputs": [
        {
          "output_type": "stream",
          "name": "stdout",
          "text": [
            "Accuracy of Naive Bayes classifier: 0.4275\n"
          ]
        }
      ]
    },
    {
      "cell_type": "markdown",
      "source": [
        "#Hyperparameter Tuning"
      ],
      "metadata": {
        "id": "z_fpTJZHqsRG"
      }
    },
    {
      "cell_type": "code",
      "source": [
        "from sklearn.model_selection import GridSearchCV"
      ],
      "metadata": {
        "id": "J-sJkjzQq2XZ"
      },
      "execution_count": null,
      "outputs": []
    },
    {
      "cell_type": "markdown",
      "source": [
        "\n",
        " Tuning hyperparameters for Decision Tree Regressor"
      ],
      "metadata": {
        "id": "mNLj3mARq9ie"
      }
    },
    {
      "cell_type": "code",
      "source": [
        "param_grid_dt_reg = {\n",
        "    \"max_depth\": [3, 5, 10],\n",
        "    \"min_samples_leaf\": [2, 5, 10],\n",
        "    \"max_features\": [\"sqrt\", \"log2\"]\n",
        "}\n",
        "grid_search_dt_reg = GridSearchCV(estimator=dt_reg, param_grid=param_grid_dt_reg, \n",
        "                                  cv=5, n_jobs=-1, verbose=2)\n",
        "grid_search_dt_reg.fit(X_train, y_train)\n",
        "print(\"Best Parameters for Decision Tree Regressor:\", grid_search_dt_reg.best_params_)\n"
      ],
      "metadata": {
        "colab": {
          "base_uri": "https://localhost:8080/"
        },
        "id": "ShE3NKiaq_pC",
        "outputId": "a4a97110-bf85-45d3-8b3c-a19aae8e3fdc"
      },
      "execution_count": null,
      "outputs": [
        {
          "output_type": "stream",
          "name": "stdout",
          "text": [
            "Fitting 5 folds for each of 18 candidates, totalling 90 fits\n",
            "Best Parameters for Decision Tree Regressor: {'max_depth': 10, 'max_features': 'sqrt', 'min_samples_leaf': 2}\n"
          ]
        }
      ]
    },
    {
      "cell_type": "markdown",
      "source": [
        " hyperparameterTuning for Logistic Regression\n",
        "\n",
        "---\n",
        "\n"
      ],
      "metadata": {
        "id": "XNlVhfuhrLuM"
      }
    },
    {
      "cell_type": "code",
      "source": [
        "param_grid_log_reg = {\n",
        "    \"penalty\": [\"l1\", \"l2\"],\n",
        "    \"C\": [0.01, 0.1, 1, 10]\n",
        "}\n",
        "grid_search_log_reg = GridSearchCV(estimator=log_reg, param_grid=param_grid_log_reg, \n",
        "                                   cv=5, n_jobs=-1, verbose=2)\n",
        "grid_search_log_reg.fit(X_train, y_train)\n",
        "print(\"Best Parameters for Logistic Regression:\", grid_search_log_reg.best_params_)"
      ],
      "metadata": {
        "colab": {
          "base_uri": "https://localhost:8080/"
        },
        "id": "GW6LiWrJsDaX",
        "outputId": "442af216-c8fc-44fa-ea11-516ecbe99b67"
      },
      "execution_count": null,
      "outputs": [
        {
          "output_type": "stream",
          "name": "stdout",
          "text": [
            "Fitting 5 folds for each of 8 candidates, totalling 40 fits\n"
          ]
        },
        {
          "output_type": "stream",
          "name": "stderr",
          "text": [
            "/usr/local/lib/python3.9/dist-packages/sklearn/model_selection/_split.py:700: UserWarning: The least populated class in y has only 2 members, which is less than n_splits=5.\n",
            "  warnings.warn(\n",
            "/usr/local/lib/python3.9/dist-packages/sklearn/model_selection/_validation.py:378: FitFailedWarning: \n",
            "20 fits failed out of a total of 40.\n",
            "The score on these train-test partitions for these parameters will be set to nan.\n",
            "If these failures are not expected, you can try to debug them by setting error_score='raise'.\n",
            "\n",
            "Below are more details about the failures:\n",
            "--------------------------------------------------------------------------------\n",
            "20 fits failed with the following error:\n",
            "Traceback (most recent call last):\n",
            "  File \"/usr/local/lib/python3.9/dist-packages/sklearn/model_selection/_validation.py\", line 686, in _fit_and_score\n",
            "    estimator.fit(X_train, y_train, **fit_params)\n",
            "  File \"/usr/local/lib/python3.9/dist-packages/sklearn/linear_model/_logistic.py\", line 1162, in fit\n",
            "    solver = _check_solver(self.solver, self.penalty, self.dual)\n",
            "  File \"/usr/local/lib/python3.9/dist-packages/sklearn/linear_model/_logistic.py\", line 54, in _check_solver\n",
            "    raise ValueError(\n",
            "ValueError: Solver lbfgs supports only 'l2' or 'none' penalties, got l1 penalty.\n",
            "\n",
            "  warnings.warn(some_fits_failed_message, FitFailedWarning)\n",
            "/usr/local/lib/python3.9/dist-packages/sklearn/model_selection/_search.py:952: UserWarning: One or more of the test scores are non-finite: [      nan 0.520625        nan 0.6784375       nan 0.755           nan\n",
            " 0.75375  ]\n",
            "  warnings.warn(\n"
          ]
        },
        {
          "output_type": "stream",
          "name": "stdout",
          "text": [
            "Best Parameters for Logistic Regression: {'C': 1, 'penalty': 'l2'}\n"
          ]
        },
        {
          "output_type": "stream",
          "name": "stderr",
          "text": [
            "/usr/local/lib/python3.9/dist-packages/sklearn/linear_model/_logistic.py:458: ConvergenceWarning: lbfgs failed to converge (status=1):\n",
            "STOP: TOTAL NO. of ITERATIONS REACHED LIMIT.\n",
            "\n",
            "Increase the number of iterations (max_iter) or scale the data as shown in:\n",
            "    https://scikit-learn.org/stable/modules/preprocessing.html\n",
            "Please also refer to the documentation for alternative solver options:\n",
            "    https://scikit-learn.org/stable/modules/linear_model.html#logistic-regression\n",
            "  n_iter_i = _check_optimize_result(\n"
          ]
        }
      ]
    },
    {
      "cell_type": "markdown",
      "source": [
        "Huperparametertuning for Random Forest Regressor"
      ],
      "metadata": {
        "id": "WAdizwBwsVQK"
      }
    },
    {
      "cell_type": "code",
      "source": [
        "param_grid_rf_reg = {\n",
        "    \"n_estimators\": [100, 500, 1000],\n",
        "    \"max_depth\": [3, 5, 10],\n",
        "    \"min_samples_leaf\": [2, 5, 10],\n",
        "    \"max_features\": [\"sqrt\", \"log2\"]\n",
        "}\n",
        "grid_search_rf_reg = GridSearchCV(estimator=rf_reg, param_grid=param_grid_rf_reg, \n",
        "                                  cv=5, n_jobs=-1, verbose=2)\n",
        "grid_search_rf_reg.fit(X_train, y_train)\n",
        "print(\"Best Parameters for Random Forest\")"
      ],
      "metadata": {
        "colab": {
          "base_uri": "https://localhost:8080/",
          "height": 399
        },
        "id": "eMDl3TsTsAKI",
        "outputId": "b5874ca1-8592-41ea-d25e-3af67428618c"
      },
      "execution_count": null,
      "outputs": [
        {
          "output_type": "stream",
          "name": "stdout",
          "text": [
            "Fitting 5 folds for each of 54 candidates, totalling 270 fits\n"
          ]
        },
        {
          "output_type": "error",
          "ename": "KeyboardInterrupt",
          "evalue": "ignored",
          "traceback": [
            "\u001b[0;31m---------------------------------------------------------------------------\u001b[0m",
            "\u001b[0;31mKeyboardInterrupt\u001b[0m                         Traceback (most recent call last)",
            "\u001b[0;32m<ipython-input-58-6e1063f56733>\u001b[0m in \u001b[0;36m<cell line: 9>\u001b[0;34m()\u001b[0m\n\u001b[1;32m      7\u001b[0m grid_search_rf_reg = GridSearchCV(estimator=rf_reg, param_grid=param_grid_rf_reg, \n\u001b[1;32m      8\u001b[0m                                   cv=5, n_jobs=-1, verbose=2)\n\u001b[0;32m----> 9\u001b[0;31m \u001b[0mgrid_search_rf_reg\u001b[0m\u001b[0;34m.\u001b[0m\u001b[0mfit\u001b[0m\u001b[0;34m(\u001b[0m\u001b[0mX_train\u001b[0m\u001b[0;34m,\u001b[0m \u001b[0my_train\u001b[0m\u001b[0;34m)\u001b[0m\u001b[0;34m\u001b[0m\u001b[0;34m\u001b[0m\u001b[0m\n\u001b[0m\u001b[1;32m     10\u001b[0m \u001b[0mprint\u001b[0m\u001b[0;34m(\u001b[0m\u001b[0;34m\"Best Parameters for Random Forest\"\u001b[0m\u001b[0;34m)\u001b[0m\u001b[0;34m\u001b[0m\u001b[0;34m\u001b[0m\u001b[0m\n",
            "\u001b[0;32m/usr/local/lib/python3.9/dist-packages/sklearn/model_selection/_search.py\u001b[0m in \u001b[0;36mfit\u001b[0;34m(self, X, y, groups, **fit_params)\u001b[0m\n\u001b[1;32m    872\u001b[0m                 \u001b[0;32mreturn\u001b[0m \u001b[0mresults\u001b[0m\u001b[0;34m\u001b[0m\u001b[0;34m\u001b[0m\u001b[0m\n\u001b[1;32m    873\u001b[0m \u001b[0;34m\u001b[0m\u001b[0m\n\u001b[0;32m--> 874\u001b[0;31m             \u001b[0mself\u001b[0m\u001b[0;34m.\u001b[0m\u001b[0m_run_search\u001b[0m\u001b[0;34m(\u001b[0m\u001b[0mevaluate_candidates\u001b[0m\u001b[0;34m)\u001b[0m\u001b[0;34m\u001b[0m\u001b[0;34m\u001b[0m\u001b[0m\n\u001b[0m\u001b[1;32m    875\u001b[0m \u001b[0;34m\u001b[0m\u001b[0m\n\u001b[1;32m    876\u001b[0m             \u001b[0;31m# multimetric is determined here because in the case of a callable\u001b[0m\u001b[0;34m\u001b[0m\u001b[0;34m\u001b[0m\u001b[0m\n",
            "\u001b[0;32m/usr/local/lib/python3.9/dist-packages/sklearn/model_selection/_search.py\u001b[0m in \u001b[0;36m_run_search\u001b[0;34m(self, evaluate_candidates)\u001b[0m\n\u001b[1;32m   1386\u001b[0m     \u001b[0;32mdef\u001b[0m \u001b[0m_run_search\u001b[0m\u001b[0;34m(\u001b[0m\u001b[0mself\u001b[0m\u001b[0;34m,\u001b[0m \u001b[0mevaluate_candidates\u001b[0m\u001b[0;34m)\u001b[0m\u001b[0;34m:\u001b[0m\u001b[0;34m\u001b[0m\u001b[0;34m\u001b[0m\u001b[0m\n\u001b[1;32m   1387\u001b[0m         \u001b[0;34m\"\"\"Search all candidates in param_grid\"\"\"\u001b[0m\u001b[0;34m\u001b[0m\u001b[0;34m\u001b[0m\u001b[0m\n\u001b[0;32m-> 1388\u001b[0;31m         \u001b[0mevaluate_candidates\u001b[0m\u001b[0;34m(\u001b[0m\u001b[0mParameterGrid\u001b[0m\u001b[0;34m(\u001b[0m\u001b[0mself\u001b[0m\u001b[0;34m.\u001b[0m\u001b[0mparam_grid\u001b[0m\u001b[0;34m)\u001b[0m\u001b[0;34m)\u001b[0m\u001b[0;34m\u001b[0m\u001b[0;34m\u001b[0m\u001b[0m\n\u001b[0m\u001b[1;32m   1389\u001b[0m \u001b[0;34m\u001b[0m\u001b[0m\n\u001b[1;32m   1390\u001b[0m \u001b[0;34m\u001b[0m\u001b[0m\n",
            "\u001b[0;32m/usr/local/lib/python3.9/dist-packages/sklearn/model_selection/_search.py\u001b[0m in \u001b[0;36mevaluate_candidates\u001b[0;34m(candidate_params, cv, more_results)\u001b[0m\n\u001b[1;32m    819\u001b[0m                     )\n\u001b[1;32m    820\u001b[0m \u001b[0;34m\u001b[0m\u001b[0m\n\u001b[0;32m--> 821\u001b[0;31m                 out = parallel(\n\u001b[0m\u001b[1;32m    822\u001b[0m                     delayed(_fit_and_score)(\n\u001b[1;32m    823\u001b[0m                         \u001b[0mclone\u001b[0m\u001b[0;34m(\u001b[0m\u001b[0mbase_estimator\u001b[0m\u001b[0;34m)\u001b[0m\u001b[0;34m,\u001b[0m\u001b[0;34m\u001b[0m\u001b[0;34m\u001b[0m\u001b[0m\n",
            "\u001b[0;32m/usr/local/lib/python3.9/dist-packages/sklearn/utils/parallel.py\u001b[0m in \u001b[0;36m__call__\u001b[0;34m(self, iterable)\u001b[0m\n\u001b[1;32m     61\u001b[0m             \u001b[0;32mfor\u001b[0m \u001b[0mdelayed_func\u001b[0m\u001b[0;34m,\u001b[0m \u001b[0margs\u001b[0m\u001b[0;34m,\u001b[0m \u001b[0mkwargs\u001b[0m \u001b[0;32min\u001b[0m \u001b[0miterable\u001b[0m\u001b[0;34m\u001b[0m\u001b[0;34m\u001b[0m\u001b[0m\n\u001b[1;32m     62\u001b[0m         )\n\u001b[0;32m---> 63\u001b[0;31m         \u001b[0;32mreturn\u001b[0m \u001b[0msuper\u001b[0m\u001b[0;34m(\u001b[0m\u001b[0;34m)\u001b[0m\u001b[0;34m.\u001b[0m\u001b[0m__call__\u001b[0m\u001b[0;34m(\u001b[0m\u001b[0miterable_with_config\u001b[0m\u001b[0;34m)\u001b[0m\u001b[0;34m\u001b[0m\u001b[0;34m\u001b[0m\u001b[0m\n\u001b[0m\u001b[1;32m     64\u001b[0m \u001b[0;34m\u001b[0m\u001b[0m\n\u001b[1;32m     65\u001b[0m \u001b[0;34m\u001b[0m\u001b[0m\n",
            "\u001b[0;32m/usr/local/lib/python3.9/dist-packages/joblib/parallel.py\u001b[0m in \u001b[0;36m__call__\u001b[0;34m(self, iterable)\u001b[0m\n\u001b[1;32m   1096\u001b[0m \u001b[0;34m\u001b[0m\u001b[0m\n\u001b[1;32m   1097\u001b[0m             \u001b[0;32mwith\u001b[0m \u001b[0mself\u001b[0m\u001b[0;34m.\u001b[0m\u001b[0m_backend\u001b[0m\u001b[0;34m.\u001b[0m\u001b[0mretrieval_context\u001b[0m\u001b[0;34m(\u001b[0m\u001b[0;34m)\u001b[0m\u001b[0;34m:\u001b[0m\u001b[0;34m\u001b[0m\u001b[0;34m\u001b[0m\u001b[0m\n\u001b[0;32m-> 1098\u001b[0;31m                 \u001b[0mself\u001b[0m\u001b[0;34m.\u001b[0m\u001b[0mretrieve\u001b[0m\u001b[0;34m(\u001b[0m\u001b[0;34m)\u001b[0m\u001b[0;34m\u001b[0m\u001b[0;34m\u001b[0m\u001b[0m\n\u001b[0m\u001b[1;32m   1099\u001b[0m             \u001b[0;31m# Make sure that we get a last message telling us we are done\u001b[0m\u001b[0;34m\u001b[0m\u001b[0;34m\u001b[0m\u001b[0m\n\u001b[1;32m   1100\u001b[0m             \u001b[0melapsed_time\u001b[0m \u001b[0;34m=\u001b[0m \u001b[0mtime\u001b[0m\u001b[0;34m.\u001b[0m\u001b[0mtime\u001b[0m\u001b[0;34m(\u001b[0m\u001b[0;34m)\u001b[0m \u001b[0;34m-\u001b[0m \u001b[0mself\u001b[0m\u001b[0;34m.\u001b[0m\u001b[0m_start_time\u001b[0m\u001b[0;34m\u001b[0m\u001b[0;34m\u001b[0m\u001b[0m\n",
            "\u001b[0;32m/usr/local/lib/python3.9/dist-packages/joblib/parallel.py\u001b[0m in \u001b[0;36mretrieve\u001b[0;34m(self)\u001b[0m\n\u001b[1;32m    973\u001b[0m             \u001b[0;32mtry\u001b[0m\u001b[0;34m:\u001b[0m\u001b[0;34m\u001b[0m\u001b[0;34m\u001b[0m\u001b[0m\n\u001b[1;32m    974\u001b[0m                 \u001b[0;32mif\u001b[0m \u001b[0mgetattr\u001b[0m\u001b[0;34m(\u001b[0m\u001b[0mself\u001b[0m\u001b[0;34m.\u001b[0m\u001b[0m_backend\u001b[0m\u001b[0;34m,\u001b[0m \u001b[0;34m'supports_timeout'\u001b[0m\u001b[0;34m,\u001b[0m \u001b[0;32mFalse\u001b[0m\u001b[0;34m)\u001b[0m\u001b[0;34m:\u001b[0m\u001b[0;34m\u001b[0m\u001b[0;34m\u001b[0m\u001b[0m\n\u001b[0;32m--> 975\u001b[0;31m                     \u001b[0mself\u001b[0m\u001b[0;34m.\u001b[0m\u001b[0m_output\u001b[0m\u001b[0;34m.\u001b[0m\u001b[0mextend\u001b[0m\u001b[0;34m(\u001b[0m\u001b[0mjob\u001b[0m\u001b[0;34m.\u001b[0m\u001b[0mget\u001b[0m\u001b[0;34m(\u001b[0m\u001b[0mtimeout\u001b[0m\u001b[0;34m=\u001b[0m\u001b[0mself\u001b[0m\u001b[0;34m.\u001b[0m\u001b[0mtimeout\u001b[0m\u001b[0;34m)\u001b[0m\u001b[0;34m)\u001b[0m\u001b[0;34m\u001b[0m\u001b[0;34m\u001b[0m\u001b[0m\n\u001b[0m\u001b[1;32m    976\u001b[0m                 \u001b[0;32melse\u001b[0m\u001b[0;34m:\u001b[0m\u001b[0;34m\u001b[0m\u001b[0;34m\u001b[0m\u001b[0m\n\u001b[1;32m    977\u001b[0m                     \u001b[0mself\u001b[0m\u001b[0;34m.\u001b[0m\u001b[0m_output\u001b[0m\u001b[0;34m.\u001b[0m\u001b[0mextend\u001b[0m\u001b[0;34m(\u001b[0m\u001b[0mjob\u001b[0m\u001b[0;34m.\u001b[0m\u001b[0mget\u001b[0m\u001b[0;34m(\u001b[0m\u001b[0;34m)\u001b[0m\u001b[0;34m)\u001b[0m\u001b[0;34m\u001b[0m\u001b[0;34m\u001b[0m\u001b[0m\n",
            "\u001b[0;32m/usr/local/lib/python3.9/dist-packages/joblib/_parallel_backends.py\u001b[0m in \u001b[0;36mwrap_future_result\u001b[0;34m(future, timeout)\u001b[0m\n\u001b[1;32m    565\u001b[0m         AsyncResults.get from multiprocessing.\"\"\"\n\u001b[1;32m    566\u001b[0m         \u001b[0;32mtry\u001b[0m\u001b[0;34m:\u001b[0m\u001b[0;34m\u001b[0m\u001b[0;34m\u001b[0m\u001b[0m\n\u001b[0;32m--> 567\u001b[0;31m             \u001b[0;32mreturn\u001b[0m \u001b[0mfuture\u001b[0m\u001b[0;34m.\u001b[0m\u001b[0mresult\u001b[0m\u001b[0;34m(\u001b[0m\u001b[0mtimeout\u001b[0m\u001b[0;34m=\u001b[0m\u001b[0mtimeout\u001b[0m\u001b[0;34m)\u001b[0m\u001b[0;34m\u001b[0m\u001b[0;34m\u001b[0m\u001b[0m\n\u001b[0m\u001b[1;32m    568\u001b[0m         \u001b[0;32mexcept\u001b[0m \u001b[0mCfTimeoutError\u001b[0m \u001b[0;32mas\u001b[0m \u001b[0me\u001b[0m\u001b[0;34m:\u001b[0m\u001b[0;34m\u001b[0m\u001b[0;34m\u001b[0m\u001b[0m\n\u001b[1;32m    569\u001b[0m             \u001b[0;32mraise\u001b[0m \u001b[0mTimeoutError\u001b[0m \u001b[0;32mfrom\u001b[0m \u001b[0me\u001b[0m\u001b[0;34m\u001b[0m\u001b[0;34m\u001b[0m\u001b[0m\n",
            "\u001b[0;32m/usr/lib/python3.9/concurrent/futures/_base.py\u001b[0m in \u001b[0;36mresult\u001b[0;34m(self, timeout)\u001b[0m\n\u001b[1;32m    439\u001b[0m                     \u001b[0;32mreturn\u001b[0m \u001b[0mself\u001b[0m\u001b[0;34m.\u001b[0m\u001b[0m__get_result\u001b[0m\u001b[0;34m(\u001b[0m\u001b[0;34m)\u001b[0m\u001b[0;34m\u001b[0m\u001b[0;34m\u001b[0m\u001b[0m\n\u001b[1;32m    440\u001b[0m \u001b[0;34m\u001b[0m\u001b[0m\n\u001b[0;32m--> 441\u001b[0;31m                 \u001b[0mself\u001b[0m\u001b[0;34m.\u001b[0m\u001b[0m_condition\u001b[0m\u001b[0;34m.\u001b[0m\u001b[0mwait\u001b[0m\u001b[0;34m(\u001b[0m\u001b[0mtimeout\u001b[0m\u001b[0;34m)\u001b[0m\u001b[0;34m\u001b[0m\u001b[0;34m\u001b[0m\u001b[0m\n\u001b[0m\u001b[1;32m    442\u001b[0m \u001b[0;34m\u001b[0m\u001b[0m\n\u001b[1;32m    443\u001b[0m                 \u001b[0;32mif\u001b[0m \u001b[0mself\u001b[0m\u001b[0;34m.\u001b[0m\u001b[0m_state\u001b[0m \u001b[0;32min\u001b[0m \u001b[0;34m[\u001b[0m\u001b[0mCANCELLED\u001b[0m\u001b[0;34m,\u001b[0m \u001b[0mCANCELLED_AND_NOTIFIED\u001b[0m\u001b[0;34m]\u001b[0m\u001b[0;34m:\u001b[0m\u001b[0;34m\u001b[0m\u001b[0;34m\u001b[0m\u001b[0m\n",
            "\u001b[0;32m/usr/lib/python3.9/threading.py\u001b[0m in \u001b[0;36mwait\u001b[0;34m(self, timeout)\u001b[0m\n\u001b[1;32m    310\u001b[0m         \u001b[0;32mtry\u001b[0m\u001b[0;34m:\u001b[0m    \u001b[0;31m# restore state no matter what (e.g., KeyboardInterrupt)\u001b[0m\u001b[0;34m\u001b[0m\u001b[0;34m\u001b[0m\u001b[0m\n\u001b[1;32m    311\u001b[0m             \u001b[0;32mif\u001b[0m \u001b[0mtimeout\u001b[0m \u001b[0;32mis\u001b[0m \u001b[0;32mNone\u001b[0m\u001b[0;34m:\u001b[0m\u001b[0;34m\u001b[0m\u001b[0;34m\u001b[0m\u001b[0m\n\u001b[0;32m--> 312\u001b[0;31m                 \u001b[0mwaiter\u001b[0m\u001b[0;34m.\u001b[0m\u001b[0macquire\u001b[0m\u001b[0;34m(\u001b[0m\u001b[0;34m)\u001b[0m\u001b[0;34m\u001b[0m\u001b[0;34m\u001b[0m\u001b[0m\n\u001b[0m\u001b[1;32m    313\u001b[0m                 \u001b[0mgotit\u001b[0m \u001b[0;34m=\u001b[0m \u001b[0;32mTrue\u001b[0m\u001b[0;34m\u001b[0m\u001b[0;34m\u001b[0m\u001b[0m\n\u001b[1;32m    314\u001b[0m             \u001b[0;32melse\u001b[0m\u001b[0;34m:\u001b[0m\u001b[0;34m\u001b[0m\u001b[0;34m\u001b[0m\u001b[0m\n",
            "\u001b[0;31mKeyboardInterrupt\u001b[0m: "
          ]
        }
      ]
    },
    {
      "cell_type": "markdown",
      "source": [
        "#R-SQUARED SCORE"
      ],
      "metadata": {
        "id": "YgRqscocsr6i"
      }
    },
    {
      "cell_type": "code",
      "source": [
        "from sklearn.metrics import r2_score"
      ],
      "metadata": {
        "id": "op-WyyeR0sdF"
      },
      "execution_count": null,
      "outputs": []
    },
    {
      "cell_type": "markdown",
      "source": [
        "#1.FOR SVR"
      ],
      "metadata": {
        "id": "QwWDqxSE0OHi"
      }
    },
    {
      "cell_type": "code",
      "source": [
        "r2_svr = r2_score(y_test, y_pred_svr)\n",
        "print(\"R-squared score of SVR model:\", r2_svr)"
      ],
      "metadata": {
        "colab": {
          "base_uri": "https://localhost:8080/"
        },
        "id": "BpN5JByR0rRL",
        "outputId": "ffe510b8-740a-4835-cda9-efde1f377cc1"
      },
      "execution_count": null,
      "outputs": [
        {
          "output_type": "stream",
          "name": "stdout",
          "text": [
            "R-squared score of SVR model: 0.4529422269795158\n"
          ]
        }
      ]
    },
    {
      "cell_type": "markdown",
      "source": [
        "#2.for Gradient Boosting model"
      ],
      "metadata": {
        "id": "gyX4koEa00Ao"
      }
    },
    {
      "cell_type": "code",
      "source": [
        "r2_gb = r2_score(y_test, y_pred_gb)\n",
        "print(\"R-squared score of Gradient Boosting model:\", r2_gb)"
      ],
      "metadata": {
        "colab": {
          "base_uri": "https://localhost:8080/"
        },
        "id": "8LuckkL50YDo",
        "outputId": "b8bf217a-53cf-444f-d19c-b980ef122859"
      },
      "execution_count": null,
      "outputs": [
        {
          "output_type": "stream",
          "name": "stdout",
          "text": [
            "R-squared score of Gradient Boosting model: 0.9967752466131562\n"
          ]
        }
      ]
    },
    {
      "cell_type": "markdown",
      "source": [
        "#3.for Linear Regression model"
      ],
      "metadata": {
        "id": "yWslu34z7HWQ"
      }
    },
    {
      "cell_type": "code",
      "source": [
        "r2_lin_reg = r2_score(y_test, y_pred_lin_reg)\n",
        "print(\"R-squared score of Linear Regression model:\", r2_lin_reg)"
      ],
      "metadata": {
        "colab": {
          "base_uri": "https://localhost:8080/"
        },
        "id": "t4TX3jIS7L8_",
        "outputId": "51de091d-af09-4e72-971e-0ee340faedbe"
      },
      "execution_count": null,
      "outputs": [
        {
          "output_type": "stream",
          "name": "stdout",
          "text": [
            "R-squared score of Linear Regression model: 0.9895408289176256\n"
          ]
        }
      ]
    },
    {
      "cell_type": "markdown",
      "source": [
        "#4.Decision Tree Regressor model"
      ],
      "metadata": {
        "id": "RW85xfH07Pkb"
      }
    },
    {
      "cell_type": "code",
      "source": [
        "r2_reg = r2_score(y_test, y_pred_reg)\n",
        "print(\"R-squared score of Decision Tree Regressor model:\", r2_reg)"
      ],
      "metadata": {
        "colab": {
          "base_uri": "https://localhost:8080/",
          "height": 190
        },
        "id": "YzG9OFqC7Ud8",
        "outputId": "a42cee6b-5515-4874-b67d-b0d0fce96489"
      },
      "execution_count": null,
      "outputs": [
        {
          "output_type": "error",
          "ename": "NameError",
          "evalue": "ignored",
          "traceback": [
            "\u001b[0;31m---------------------------------------------------------------------------\u001b[0m",
            "\u001b[0;31mNameError\u001b[0m                                 Traceback (most recent call last)",
            "\u001b[0;32m<ipython-input-63-64ca97c4c19a>\u001b[0m in \u001b[0;36m<cell line: 1>\u001b[0;34m()\u001b[0m\n\u001b[0;32m----> 1\u001b[0;31m \u001b[0mr2_reg\u001b[0m \u001b[0;34m=\u001b[0m \u001b[0mr2_score\u001b[0m\u001b[0;34m(\u001b[0m\u001b[0my_test\u001b[0m\u001b[0;34m,\u001b[0m \u001b[0my_pred_reg\u001b[0m\u001b[0;34m)\u001b[0m\u001b[0;34m\u001b[0m\u001b[0;34m\u001b[0m\u001b[0m\n\u001b[0m\u001b[1;32m      2\u001b[0m \u001b[0mprint\u001b[0m\u001b[0;34m(\u001b[0m\u001b[0;34m\"R-squared score of Decision Tree Regressor model:\"\u001b[0m\u001b[0;34m,\u001b[0m \u001b[0mr2_reg\u001b[0m\u001b[0;34m)\u001b[0m\u001b[0;34m\u001b[0m\u001b[0;34m\u001b[0m\u001b[0m\n",
            "\u001b[0;31mNameError\u001b[0m: name 'y_pred_reg' is not defined"
          ]
        }
      ]
    },
    {
      "cell_type": "markdown",
      "source": [
        "#5.Random Forest Regressor model"
      ],
      "metadata": {
        "id": "-erYjqNS7785"
      }
    },
    {
      "cell_type": "code",
      "source": [
        "r2_rfr = r2_score(y_test, y_pred_rfr)\n",
        "print(\"R-squared score of Random Forest Regressor model:\", r2_rfr)"
      ],
      "metadata": {
        "colab": {
          "base_uri": "https://localhost:8080/",
          "height": 190
        },
        "id": "Jqmcs3Tv8Cun",
        "outputId": "7fb9cf91-eedf-4221-e6d0-8dca2b62bc33"
      },
      "execution_count": null,
      "outputs": [
        {
          "output_type": "error",
          "ename": "NameError",
          "evalue": "ignored",
          "traceback": [
            "\u001b[0;31m---------------------------------------------------------------------------\u001b[0m",
            "\u001b[0;31mNameError\u001b[0m                                 Traceback (most recent call last)",
            "\u001b[0;32m<ipython-input-64-140d42d8233c>\u001b[0m in \u001b[0;36m<cell line: 1>\u001b[0;34m()\u001b[0m\n\u001b[0;32m----> 1\u001b[0;31m \u001b[0mr2_rfr\u001b[0m \u001b[0;34m=\u001b[0m \u001b[0mr2_score\u001b[0m\u001b[0;34m(\u001b[0m\u001b[0my_test\u001b[0m\u001b[0;34m,\u001b[0m \u001b[0my_pred_rfr\u001b[0m\u001b[0;34m)\u001b[0m\u001b[0;34m\u001b[0m\u001b[0;34m\u001b[0m\u001b[0m\n\u001b[0m\u001b[1;32m      2\u001b[0m \u001b[0mprint\u001b[0m\u001b[0;34m(\u001b[0m\u001b[0;34m\"R-squared score of Random Forest Regressor model:\"\u001b[0m\u001b[0;34m,\u001b[0m \u001b[0mr2_rfr\u001b[0m\u001b[0;34m)\u001b[0m\u001b[0;34m\u001b[0m\u001b[0;34m\u001b[0m\u001b[0m\n",
            "\u001b[0;31mNameError\u001b[0m: name 'y_pred_rfr' is not defined"
          ]
        }
      ]
    },
    {
      "cell_type": "markdown",
      "source": [
        "#EDA"
      ],
      "metadata": {
        "id": "1J4tlZzHAJ-m"
      }
    },
    {
      "cell_type": "code",
      "source": [
        "import pandas as pd\n",
        "import matplotlib.pyplot as plt\n",
        "import seaborn as sns"
      ],
      "metadata": {
        "id": "x7cmKmXmAeOu"
      },
      "execution_count": null,
      "outputs": []
    },
    {
      "cell_type": "code",
      "source": [
        "from google.colab import files\n",
        "files = files.upload()"
      ],
      "metadata": {
        "colab": {
          "base_uri": "https://localhost:8080/",
          "height": 108
        },
        "id": "ALGJy6DwAgiW",
        "outputId": "7c08b70c-534f-4fca-f402-40bb28cff2f3"
      },
      "execution_count": null,
      "outputs": [
        {
          "output_type": "display_data",
          "data": {
            "text/plain": [
              "<IPython.core.display.HTML object>"
            ],
            "text/html": [
              "\n",
              "     <input type=\"file\" id=\"files-c58f5195-82bc-4000-8918-0e5e1fb56a9c\" name=\"files[]\" multiple disabled\n",
              "        style=\"border:none\" />\n",
              "     <output id=\"result-c58f5195-82bc-4000-8918-0e5e1fb56a9c\">\n",
              "      Upload widget is only available when the cell has been executed in the\n",
              "      current browser session. Please rerun this cell to enable.\n",
              "      </output>\n",
              "      <script>// Copyright 2017 Google LLC\n",
              "//\n",
              "// Licensed under the Apache License, Version 2.0 (the \"License\");\n",
              "// you may not use this file except in compliance with the License.\n",
              "// You may obtain a copy of the License at\n",
              "//\n",
              "//      http://www.apache.org/licenses/LICENSE-2.0\n",
              "//\n",
              "// Unless required by applicable law or agreed to in writing, software\n",
              "// distributed under the License is distributed on an \"AS IS\" BASIS,\n",
              "// WITHOUT WARRANTIES OR CONDITIONS OF ANY KIND, either express or implied.\n",
              "// See the License for the specific language governing permissions and\n",
              "// limitations under the License.\n",
              "\n",
              "/**\n",
              " * @fileoverview Helpers for google.colab Python module.\n",
              " */\n",
              "(function(scope) {\n",
              "function span(text, styleAttributes = {}) {\n",
              "  const element = document.createElement('span');\n",
              "  element.textContent = text;\n",
              "  for (const key of Object.keys(styleAttributes)) {\n",
              "    element.style[key] = styleAttributes[key];\n",
              "  }\n",
              "  return element;\n",
              "}\n",
              "\n",
              "// Max number of bytes which will be uploaded at a time.\n",
              "const MAX_PAYLOAD_SIZE = 100 * 1024;\n",
              "\n",
              "function _uploadFiles(inputId, outputId) {\n",
              "  const steps = uploadFilesStep(inputId, outputId);\n",
              "  const outputElement = document.getElementById(outputId);\n",
              "  // Cache steps on the outputElement to make it available for the next call\n",
              "  // to uploadFilesContinue from Python.\n",
              "  outputElement.steps = steps;\n",
              "\n",
              "  return _uploadFilesContinue(outputId);\n",
              "}\n",
              "\n",
              "// This is roughly an async generator (not supported in the browser yet),\n",
              "// where there are multiple asynchronous steps and the Python side is going\n",
              "// to poll for completion of each step.\n",
              "// This uses a Promise to block the python side on completion of each step,\n",
              "// then passes the result of the previous step as the input to the next step.\n",
              "function _uploadFilesContinue(outputId) {\n",
              "  const outputElement = document.getElementById(outputId);\n",
              "  const steps = outputElement.steps;\n",
              "\n",
              "  const next = steps.next(outputElement.lastPromiseValue);\n",
              "  return Promise.resolve(next.value.promise).then((value) => {\n",
              "    // Cache the last promise value to make it available to the next\n",
              "    // step of the generator.\n",
              "    outputElement.lastPromiseValue = value;\n",
              "    return next.value.response;\n",
              "  });\n",
              "}\n",
              "\n",
              "/**\n",
              " * Generator function which is called between each async step of the upload\n",
              " * process.\n",
              " * @param {string} inputId Element ID of the input file picker element.\n",
              " * @param {string} outputId Element ID of the output display.\n",
              " * @return {!Iterable<!Object>} Iterable of next steps.\n",
              " */\n",
              "function* uploadFilesStep(inputId, outputId) {\n",
              "  const inputElement = document.getElementById(inputId);\n",
              "  inputElement.disabled = false;\n",
              "\n",
              "  const outputElement = document.getElementById(outputId);\n",
              "  outputElement.innerHTML = '';\n",
              "\n",
              "  const pickedPromise = new Promise((resolve) => {\n",
              "    inputElement.addEventListener('change', (e) => {\n",
              "      resolve(e.target.files);\n",
              "    });\n",
              "  });\n",
              "\n",
              "  const cancel = document.createElement('button');\n",
              "  inputElement.parentElement.appendChild(cancel);\n",
              "  cancel.textContent = 'Cancel upload';\n",
              "  const cancelPromise = new Promise((resolve) => {\n",
              "    cancel.onclick = () => {\n",
              "      resolve(null);\n",
              "    };\n",
              "  });\n",
              "\n",
              "  // Wait for the user to pick the files.\n",
              "  const files = yield {\n",
              "    promise: Promise.race([pickedPromise, cancelPromise]),\n",
              "    response: {\n",
              "      action: 'starting',\n",
              "    }\n",
              "  };\n",
              "\n",
              "  cancel.remove();\n",
              "\n",
              "  // Disable the input element since further picks are not allowed.\n",
              "  inputElement.disabled = true;\n",
              "\n",
              "  if (!files) {\n",
              "    return {\n",
              "      response: {\n",
              "        action: 'complete',\n",
              "      }\n",
              "    };\n",
              "  }\n",
              "\n",
              "  for (const file of files) {\n",
              "    const li = document.createElement('li');\n",
              "    li.append(span(file.name, {fontWeight: 'bold'}));\n",
              "    li.append(span(\n",
              "        `(${file.type || 'n/a'}) - ${file.size} bytes, ` +\n",
              "        `last modified: ${\n",
              "            file.lastModifiedDate ? file.lastModifiedDate.toLocaleDateString() :\n",
              "                                    'n/a'} - `));\n",
              "    const percent = span('0% done');\n",
              "    li.appendChild(percent);\n",
              "\n",
              "    outputElement.appendChild(li);\n",
              "\n",
              "    const fileDataPromise = new Promise((resolve) => {\n",
              "      const reader = new FileReader();\n",
              "      reader.onload = (e) => {\n",
              "        resolve(e.target.result);\n",
              "      };\n",
              "      reader.readAsArrayBuffer(file);\n",
              "    });\n",
              "    // Wait for the data to be ready.\n",
              "    let fileData = yield {\n",
              "      promise: fileDataPromise,\n",
              "      response: {\n",
              "        action: 'continue',\n",
              "      }\n",
              "    };\n",
              "\n",
              "    // Use a chunked sending to avoid message size limits. See b/62115660.\n",
              "    let position = 0;\n",
              "    do {\n",
              "      const length = Math.min(fileData.byteLength - position, MAX_PAYLOAD_SIZE);\n",
              "      const chunk = new Uint8Array(fileData, position, length);\n",
              "      position += length;\n",
              "\n",
              "      const base64 = btoa(String.fromCharCode.apply(null, chunk));\n",
              "      yield {\n",
              "        response: {\n",
              "          action: 'append',\n",
              "          file: file.name,\n",
              "          data: base64,\n",
              "        },\n",
              "      };\n",
              "\n",
              "      let percentDone = fileData.byteLength === 0 ?\n",
              "          100 :\n",
              "          Math.round((position / fileData.byteLength) * 100);\n",
              "      percent.textContent = `${percentDone}% done`;\n",
              "\n",
              "    } while (position < fileData.byteLength);\n",
              "  }\n",
              "\n",
              "  // All done.\n",
              "  yield {\n",
              "    response: {\n",
              "      action: 'complete',\n",
              "    }\n",
              "  };\n",
              "}\n",
              "\n",
              "scope.google = scope.google || {};\n",
              "scope.google.colab = scope.google.colab || {};\n",
              "scope.google.colab._files = {\n",
              "  _uploadFiles,\n",
              "  _uploadFilesContinue,\n",
              "};\n",
              "})(self);\n",
              "</script> "
            ]
          },
          "metadata": {}
        },
        {
          "output_type": "stream",
          "name": "stdout",
          "text": [
            "Saving tic_2000_eval_data.csv to tic_2000_eval_data (3).csv\n",
            "Saving tic_2000_target_data.csv to tic_2000_target_data.csv\n"
          ]
        }
      ]
    },
    {
      "cell_type": "code",
      "source": [
        "df = pd.read_csv(\"tic_2000_eval_data.csv\")"
      ],
      "metadata": {
        "id": "iKu0xm4yAxp3"
      },
      "execution_count": null,
      "outputs": []
    },
    {
      "cell_type": "code",
      "source": [
        "print(df.head())"
      ],
      "metadata": {
        "colab": {
          "base_uri": "https://localhost:8080/"
        },
        "id": "CO9f506nAj2_",
        "outputId": "e406641f-08a8-44ba-cbc6-c1ec79aa4ad9"
      },
      "execution_count": null,
      "outputs": [
        {
          "output_type": "stream",
          "name": "stdout",
          "text": [
            "   MOSTYPE  MAANTHUI  MGEMOMV  MGEMLEEF  MOSHOOFD  MGODRK  MGODPR  MGODOV  \\\n",
            "0       33         1        4         2         8       0       6       0   \n",
            "1        6         1        3         2         2       0       5       0   \n",
            "2       39         1        3         3         9       1       4       2   \n",
            "3        9         1        2         3         3       2       3       2   \n",
            "4       31         1        2         4         7       0       2       0   \n",
            "\n",
            "   MGODGE  MRELGE  ...  ALEVEN  APERSONG  AGEZONG  AWAOREG  ABRAND  AZEILPL  \\\n",
            "0       3       5  ...       0         0        0        0       1        0   \n",
            "1       4       5  ...       2         0        0        0       1        0   \n",
            "2       3       5  ...       1         0        0        0       1        0   \n",
            "3       4       5  ...       0         0        0        0       1        0   \n",
            "4       7       9  ...       0         0        0        0       1        0   \n",
            "\n",
            "   APLEZIER  AFIETS  AINBOED  ABYSTAND  \n",
            "0         0       0        0         0  \n",
            "1         0       0        0         0  \n",
            "2         0       0        0         0  \n",
            "3         0       0        0         0  \n",
            "4         0       0        0         0  \n",
            "\n",
            "[5 rows x 85 columns]\n"
          ]
        }
      ]
    },
    {
      "cell_type": "markdown",
      "source": [],
      "metadata": {
        "id": "x-UaS-5iA-Gq"
      }
    },
    {
      "cell_type": "code",
      "source": [
        "print(df.info())"
      ],
      "metadata": {
        "colab": {
          "base_uri": "https://localhost:8080/"
        },
        "id": "48js0M9RA6Pk",
        "outputId": "29016c82-0814-4578-9cf8-1ab3fd1e3a79"
      },
      "execution_count": null,
      "outputs": [
        {
          "output_type": "stream",
          "name": "stdout",
          "text": [
            "<class 'pandas.core.frame.DataFrame'>\n",
            "RangeIndex: 4000 entries, 0 to 3999\n",
            "Data columns (total 85 columns):\n",
            " #   Column    Non-Null Count  Dtype\n",
            "---  ------    --------------  -----\n",
            " 0   MOSTYPE   4000 non-null   int64\n",
            " 1   MAANTHUI  4000 non-null   int64\n",
            " 2   MGEMOMV   4000 non-null   int64\n",
            " 3   MGEMLEEF  4000 non-null   int64\n",
            " 4   MOSHOOFD  4000 non-null   int64\n",
            " 5   MGODRK    4000 non-null   int64\n",
            " 6   MGODPR    4000 non-null   int64\n",
            " 7   MGODOV    4000 non-null   int64\n",
            " 8   MGODGE    4000 non-null   int64\n",
            " 9   MRELGE    4000 non-null   int64\n",
            " 10  MRELSA    4000 non-null   int64\n",
            " 11  MRELOV    4000 non-null   int64\n",
            " 12  MFALLEEN  4000 non-null   int64\n",
            " 13  MFGEKIND  4000 non-null   int64\n",
            " 14  MFWEKIND  4000 non-null   int64\n",
            " 15  MOPLHOOG  4000 non-null   int64\n",
            " 16  MOPLMIDD  4000 non-null   int64\n",
            " 17  MOPLLAAG  4000 non-null   int64\n",
            " 18  MBERHOOG  4000 non-null   int64\n",
            " 19  MBERZELF  4000 non-null   int64\n",
            " 20  MBERBOER  4000 non-null   int64\n",
            " 21  MBERMIDD  4000 non-null   int64\n",
            " 22  MBERARBG  4000 non-null   int64\n",
            " 23  MBERARBO  4000 non-null   int64\n",
            " 24  MSKA      4000 non-null   int64\n",
            " 25  MSKB1     4000 non-null   int64\n",
            " 26  MSKB2     4000 non-null   int64\n",
            " 27  MSKC      4000 non-null   int64\n",
            " 28  MSKD      4000 non-null   int64\n",
            " 29  MHHUUR    4000 non-null   int64\n",
            " 30  MHKOOP    4000 non-null   int64\n",
            " 31  MAUT1     4000 non-null   int64\n",
            " 32  MAUT2     4000 non-null   int64\n",
            " 33  MAUT0     4000 non-null   int64\n",
            " 34  MZFONDS   4000 non-null   int64\n",
            " 35  MZPART    4000 non-null   int64\n",
            " 36  MINKM30   4000 non-null   int64\n",
            " 37  MINK3045  4000 non-null   int64\n",
            " 38  MINK4575  4000 non-null   int64\n",
            " 39  MINK7512  4000 non-null   int64\n",
            " 40  MINK123M  4000 non-null   int64\n",
            " 41  MINKGEM   4000 non-null   int64\n",
            " 42  MKOOPKLA  4000 non-null   int64\n",
            " 43  PWAPART   4000 non-null   int64\n",
            " 44  PWABEDR   4000 non-null   int64\n",
            " 45  PWALAND   4000 non-null   int64\n",
            " 46  PPERSAUT  4000 non-null   int64\n",
            " 47  PBESAUT   4000 non-null   int64\n",
            " 48  PMOTSCO   4000 non-null   int64\n",
            " 49  PVRAAUT   4000 non-null   int64\n",
            " 50  PAANHANG  4000 non-null   int64\n",
            " 51  PTRACTOR  4000 non-null   int64\n",
            " 52  PWERKT    4000 non-null   int64\n",
            " 53  PBROM     4000 non-null   int64\n",
            " 54  PLEVEN    4000 non-null   int64\n",
            " 55  PPERSONG  4000 non-null   int64\n",
            " 56  PGEZONG   4000 non-null   int64\n",
            " 57  PWAOREG   4000 non-null   int64\n",
            " 58  PBRAND    4000 non-null   int64\n",
            " 59  PZEILPL   4000 non-null   int64\n",
            " 60  PPLEZIER  4000 non-null   int64\n",
            " 61  PFIETS    4000 non-null   int64\n",
            " 62  PINBOED   4000 non-null   int64\n",
            " 63  PBYSTAND  4000 non-null   int64\n",
            " 64  AWAPART   4000 non-null   int64\n",
            " 65  AWABEDR   4000 non-null   int64\n",
            " 66  AWALAND   4000 non-null   int64\n",
            " 67  APERSAUT  4000 non-null   int64\n",
            " 68  ABESAUT   4000 non-null   int64\n",
            " 69  AMOTSCO   4000 non-null   int64\n",
            " 70  AVRAAUT   4000 non-null   int64\n",
            " 71  AAANHANG  4000 non-null   int64\n",
            " 72  ATRACTOR  4000 non-null   int64\n",
            " 73  AWERKT    4000 non-null   int64\n",
            " 74  ABROM     4000 non-null   int64\n",
            " 75  ALEVEN    4000 non-null   int64\n",
            " 76  APERSONG  4000 non-null   int64\n",
            " 77  AGEZONG   4000 non-null   int64\n",
            " 78  AWAOREG   4000 non-null   int64\n",
            " 79  ABRAND    4000 non-null   int64\n",
            " 80  AZEILPL   4000 non-null   int64\n",
            " 81  APLEZIER  4000 non-null   int64\n",
            " 82  AFIETS    4000 non-null   int64\n",
            " 83  AINBOED   4000 non-null   int64\n",
            " 84  ABYSTAND  4000 non-null   int64\n",
            "dtypes: int64(85)\n",
            "memory usage: 2.6 MB\n",
            "None\n"
          ]
        }
      ]
    },
    {
      "cell_type": "markdown",
      "source": [
        "# Check summary statistics"
      ],
      "metadata": {
        "id": "5Nx0XW8eBBZ3"
      }
    },
    {
      "cell_type": "code",
      "source": [
        "print(df.describe())"
      ],
      "metadata": {
        "colab": {
          "base_uri": "https://localhost:8080/"
        },
        "id": "9YHJ_GYTBBu0",
        "outputId": "5e9bcdcf-7864-4bb0-c4ec-a487df353d84"
      },
      "execution_count": null,
      "outputs": [
        {
          "output_type": "stream",
          "name": "stdout",
          "text": [
            "           MOSTYPE    MAANTHUI      MGEMOMV     MGEMLEEF     MOSHOOFD  \\\n",
            "count  4000.000000  4000.00000  4000.000000  4000.000000  4000.000000   \n",
            "mean     24.253000     1.10600     2.675750     3.004000     5.787000   \n",
            "std      13.022822     0.42108     0.767306     0.790025     2.899609   \n",
            "min       1.000000     1.00000     1.000000     1.000000     1.000000   \n",
            "25%      10.000000     1.00000     2.000000     3.000000     3.000000   \n",
            "50%      30.000000     1.00000     3.000000     3.000000     7.000000   \n",
            "75%      35.000000     1.00000     3.000000     3.000000     8.000000   \n",
            "max      41.000000    10.00000     6.000000     6.000000    10.000000   \n",
            "\n",
            "            MGODRK       MGODPR       MGODOV       MGODGE       MRELGE  ...  \\\n",
            "count  4000.000000  4000.000000  4000.000000  4000.000000  4000.000000  ...   \n",
            "mean      0.706750     4.653250     1.021250     3.269500     6.197000  ...   \n",
            "std       1.032241     1.729093     1.001274     1.618958     1.876585  ...   \n",
            "min       0.000000     0.000000     0.000000     0.000000     0.000000  ...   \n",
            "25%       0.000000     4.000000     0.000000     2.000000     5.000000  ...   \n",
            "50%       0.000000     5.000000     1.000000     3.000000     6.000000  ...   \n",
            "75%       1.000000     6.000000     2.000000     4.000000     7.000000  ...   \n",
            "max       9.000000     9.000000     5.000000     9.000000     9.000000  ...   \n",
            "\n",
            "            ALEVEN     APERSONG      AGEZONG     AWAOREG       ABRAND  \\\n",
            "count  4000.000000  4000.000000  4000.000000  4000.00000  4000.000000   \n",
            "mean      0.084500     0.003500     0.010000     0.00375     0.579750   \n",
            "std       0.394206     0.059065     0.099511     0.06113     0.560106   \n",
            "min       0.000000     0.000000     0.000000     0.00000     0.000000   \n",
            "25%       0.000000     0.000000     0.000000     0.00000     0.000000   \n",
            "50%       0.000000     0.000000     0.000000     0.00000     1.000000   \n",
            "75%       0.000000     0.000000     0.000000     0.00000     1.000000   \n",
            "max       5.000000     1.000000     1.000000     1.00000     6.000000   \n",
            "\n",
            "           AZEILPL     APLEZIER       AFIETS      AINBOED     ABYSTAND  \n",
            "count  4000.000000  4000.000000  4000.000000  4000.000000  4000.000000  \n",
            "mean      0.001500     0.003750     0.031000     0.009250     0.013250  \n",
            "std       0.038706     0.072369     0.206276     0.095743     0.114358  \n",
            "min       0.000000     0.000000     0.000000     0.000000     0.000000  \n",
            "25%       0.000000     0.000000     0.000000     0.000000     0.000000  \n",
            "50%       0.000000     0.000000     0.000000     0.000000     0.000000  \n",
            "75%       0.000000     0.000000     0.000000     0.000000     0.000000  \n",
            "max       1.000000     2.000000     4.000000     1.000000     1.000000  \n",
            "\n",
            "[8 rows x 85 columns]\n"
          ]
        }
      ]
    },
    {
      "cell_type": "code",
      "source": [
        "df = pd.read_csv(\"tic_2000_target_data.csv\")"
      ],
      "metadata": {
        "id": "WiWA82j3CCon"
      },
      "execution_count": null,
      "outputs": []
    },
    {
      "cell_type": "code",
      "source": [
        "print(df.head())"
      ],
      "metadata": {
        "colab": {
          "base_uri": "https://localhost:8080/"
        },
        "id": "VhxF_cjGCNGt",
        "outputId": "37c4b68b-2dde-41e6-a106-f9aaa4d2415c"
      },
      "execution_count": null,
      "outputs": [
        {
          "output_type": "stream",
          "name": "stdout",
          "text": [
            "   Target\n",
            "0       0\n",
            "1       1\n",
            "2       0\n",
            "3       0\n",
            "4       0\n"
          ]
        }
      ]
    },
    {
      "cell_type": "code",
      "source": [
        "print(df.describe())"
      ],
      "metadata": {
        "colab": {
          "base_uri": "https://localhost:8080/"
        },
        "id": "W8WGR-aMCeNk",
        "outputId": "00de2233-6dfa-4418-b68a-91f44c8656db"
      },
      "execution_count": null,
      "outputs": [
        {
          "output_type": "stream",
          "name": "stdout",
          "text": [
            "            Target\n",
            "count  4000.000000\n",
            "mean      0.059500\n",
            "std       0.236588\n",
            "min       0.000000\n",
            "25%       0.000000\n",
            "50%       0.000000\n",
            "75%       0.000000\n",
            "max       1.000000\n"
          ]
        }
      ]
    },
    {
      "cell_type": "markdown",
      "source": [
        "# Check correlation between features"
      ],
      "metadata": {
        "id": "aaVUEaj4BMLK"
      }
    },
    {
      "cell_type": "code",
      "source": [
        "corr_matrix = df.corr()\n",
        "sns.heatmap(corr_matrix, cmap=\"YlGnBu\")\n",
        "plt.title(\"Correlation Matrix\")\n",
        "plt.show()"
      ],
      "metadata": {
        "colab": {
          "base_uri": "https://localhost:8080/",
          "height": 452
        },
        "id": "qqhHapx6BLtZ",
        "outputId": "79470e28-be59-447d-87e1-ac08f5bc0f56"
      },
      "execution_count": null,
      "outputs": [
        {
          "output_type": "display_data",
          "data": {
            "text/plain": [
              "<Figure size 640x480 with 2 Axes>"
            ],
            "image/png": "[encoded data removed]"
          },
          "metadata": {}
        }
      ]
    },
    {
      "cell_type": "markdown",
      "source": [
        "# Check distribution of target variable"
      ],
      "metadata": {
        "id": "h_rzReEpBR45"
      }
    },
    {
      "cell_type": "code",
      "source": [
        "sns.histplot(df[\"Target\"], kde=True)\n",
        "plt.title(\"Distribution of Target Variable\")\n",
        "plt.show()"
      ],
      "metadata": {
        "colab": {
          "base_uri": "https://localhost:8080/",
          "height": 472
        },
        "id": "lcM7Pbr8BVws",
        "outputId": "a5fd0f95-1045-429a-f166-dbcff3bf6378"
      },
      "execution_count": null,
      "outputs": [
        {
          "output_type": "display_data",
          "data": {
            "text/plain": [
              "<Figure size 640x480 with 1 Axes>"
            ],
            "image/png": "[encoded data removed]"
          },
          "metadata": {}
        }
      ]
    },
    {
      "cell_type": "markdown",
      "source": [
        "# Check distribution of numerical features"
      ],
      "metadata": {
        "id": "hiIfIaudBdjo"
      }
    },
    {
      "cell_type": "code",
      "source": [
        "num_cols = df.select_dtypes(include=[\"float64\", \"int64\"]).columns\n",
        "df[num_cols].hist(figsize=(12, 6))\n",
        "plt.suptitle(\"Distribution of Numerical Features\", y=1.05, fontsize=16)\n",
        "plt.tight_layout()\n",
        "plt.show()\n"
      ],
      "metadata": {
        "colab": {
          "base_uri": "https://localhost:8080/",
          "height": 652
        },
        "id": "7G6zOabaBYOw",
        "outputId": "7d4d40ab-9de1-46a9-9a5d-88d7c3065c15"
      },
      "execution_count": null,
      "outputs": [
        {
          "output_type": "display_data",
          "data": {
            "text/plain": [
              "<Figure size 1200x600 with 1 Axes>"
            ],
            "image/png": "[encoded data removed]"
          },
          "metadata": {}
        }
      ]
    },
    {
      "cell_type": "markdown",
      "source": [
        "# Check relationship between features and target variable"
      ],
      "metadata": {
        "id": "WR5NmOkoBupd"
      }
    },
    {
      "cell_type": "code",
      "source": [
        "sns.pairplot(df, x_vars=num_cols[:-1], y_vars=[\"MOSTYPE\"], kind=\"reg\", height=3)\n",
        "plt.suptitle(\"Relationship between Features and Target Variable\", y=1.05, fontsize=16)\n",
        "plt.tight_layout()\n",
        "plt.show()"
      ],
      "metadata": {
        "colab": {
          "base_uri": "https://localhost:8080/",
          "height": 380
        },
        "id": "ccjAtBZZBjhP",
        "outputId": "e8f938c8-f060-4091-f120-e76ae9bab742"
      },
      "execution_count": null,
      "outputs": [
        {
          "output_type": "error",
          "ename": "ValueError",
          "evalue": "ignored",
          "traceback": [
            "\u001b[0;31m---------------------------------------------------------------------------\u001b[0m",
            "\u001b[0;31mValueError\u001b[0m                                Traceback (most recent call last)",
            "\u001b[0;32m<ipython-input-81-43fd14658f73>\u001b[0m in \u001b[0;36m<cell line: 1>\u001b[0;34m()\u001b[0m\n\u001b[0;32m----> 1\u001b[0;31m \u001b[0msns\u001b[0m\u001b[0;34m.\u001b[0m\u001b[0mpairplot\u001b[0m\u001b[0;34m(\u001b[0m\u001b[0mdf\u001b[0m\u001b[0;34m,\u001b[0m \u001b[0mx_vars\u001b[0m\u001b[0;34m=\u001b[0m\u001b[0mnum_cols\u001b[0m\u001b[0;34m[\u001b[0m\u001b[0;34m:\u001b[0m\u001b[0;34m-\u001b[0m\u001b[0;36m1\u001b[0m\u001b[0;34m]\u001b[0m\u001b[0;34m,\u001b[0m \u001b[0my_vars\u001b[0m\u001b[0;34m=\u001b[0m\u001b[0;34m[\u001b[0m\u001b[0;34m\"MOSTYPE\"\u001b[0m\u001b[0;34m]\u001b[0m\u001b[0;34m,\u001b[0m \u001b[0mkind\u001b[0m\u001b[0;34m=\u001b[0m\u001b[0;34m\"reg\"\u001b[0m\u001b[0;34m,\u001b[0m \u001b[0mheight\u001b[0m\u001b[0;34m=\u001b[0m\u001b[0;36m3\u001b[0m\u001b[0;34m)\u001b[0m\u001b[0;34m\u001b[0m\u001b[0;34m\u001b[0m\u001b[0m\n\u001b[0m\u001b[1;32m      2\u001b[0m \u001b[0mplt\u001b[0m\u001b[0;34m.\u001b[0m\u001b[0msuptitle\u001b[0m\u001b[0;34m(\u001b[0m\u001b[0;34m\"Relationship between Features and Target Variable\"\u001b[0m\u001b[0;34m,\u001b[0m \u001b[0my\u001b[0m\u001b[0;34m=\u001b[0m\u001b[0;36m1.05\u001b[0m\u001b[0;34m,\u001b[0m \u001b[0mfontsize\u001b[0m\u001b[0;34m=\u001b[0m\u001b[0;36m16\u001b[0m\u001b[0;34m)\u001b[0m\u001b[0;34m\u001b[0m\u001b[0;34m\u001b[0m\u001b[0m\n\u001b[1;32m      3\u001b[0m \u001b[0mplt\u001b[0m\u001b[0;34m.\u001b[0m\u001b[0mtight_layout\u001b[0m\u001b[0;34m(\u001b[0m\u001b[0;34m)\u001b[0m\u001b[0;34m\u001b[0m\u001b[0;34m\u001b[0m\u001b[0m\n\u001b[1;32m      4\u001b[0m \u001b[0mplt\u001b[0m\u001b[0;34m.\u001b[0m\u001b[0mshow\u001b[0m\u001b[0;34m(\u001b[0m\u001b[0;34m)\u001b[0m\u001b[0;34m\u001b[0m\u001b[0;34m\u001b[0m\u001b[0m\n",
            "\u001b[0;32m/usr/local/lib/python3.9/dist-packages/seaborn/axisgrid.py\u001b[0m in \u001b[0;36mpairplot\u001b[0;34m(data, hue, hue_order, palette, vars, x_vars, y_vars, kind, diag_kind, markers, height, aspect, corner, dropna, plot_kws, diag_kws, grid_kws, size)\u001b[0m\n\u001b[1;32m   2112\u001b[0m     \u001b[0;31m# Set up the PairGrid\u001b[0m\u001b[0;34m\u001b[0m\u001b[0;34m\u001b[0m\u001b[0m\n\u001b[1;32m   2113\u001b[0m     \u001b[0mgrid_kws\u001b[0m\u001b[0;34m.\u001b[0m\u001b[0msetdefault\u001b[0m\u001b[0;34m(\u001b[0m\u001b[0;34m\"diag_sharey\"\u001b[0m\u001b[0;34m,\u001b[0m \u001b[0mdiag_kind\u001b[0m \u001b[0;34m==\u001b[0m \u001b[0;34m\"hist\"\u001b[0m\u001b[0;34m)\u001b[0m\u001b[0;34m\u001b[0m\u001b[0;34m\u001b[0m\u001b[0m\n\u001b[0;32m-> 2114\u001b[0;31m     grid = PairGrid(data, vars=vars, x_vars=x_vars, y_vars=y_vars, hue=hue,\n\u001b[0m\u001b[1;32m   2115\u001b[0m                     \u001b[0mhue_order\u001b[0m\u001b[0;34m=\u001b[0m\u001b[0mhue_order\u001b[0m\u001b[0;34m,\u001b[0m \u001b[0mpalette\u001b[0m\u001b[0;34m=\u001b[0m\u001b[0mpalette\u001b[0m\u001b[0;34m,\u001b[0m \u001b[0mcorner\u001b[0m\u001b[0;34m=\u001b[0m\u001b[0mcorner\u001b[0m\u001b[0;34m,\u001b[0m\u001b[0;34m\u001b[0m\u001b[0;34m\u001b[0m\u001b[0m\n\u001b[1;32m   2116\u001b[0m                     height=height, aspect=aspect, dropna=dropna, **grid_kws)\n",
            "\u001b[0;32m/usr/local/lib/python3.9/dist-packages/seaborn/axisgrid.py\u001b[0m in \u001b[0;36m__init__\u001b[0;34m(self, data, hue, vars, x_vars, y_vars, hue_order, palette, hue_kws, corner, diag_sharey, height, aspect, layout_pad, despine, dropna)\u001b[0m\n\u001b[1;32m   1264\u001b[0m \u001b[0;34m\u001b[0m\u001b[0m\n\u001b[1;32m   1265\u001b[0m         \u001b[0;32mif\u001b[0m \u001b[0;32mnot\u001b[0m \u001b[0mx_vars\u001b[0m\u001b[0;34m:\u001b[0m\u001b[0;34m\u001b[0m\u001b[0;34m\u001b[0m\u001b[0m\n\u001b[0;32m-> 1266\u001b[0;31m             \u001b[0;32mraise\u001b[0m \u001b[0mValueError\u001b[0m\u001b[0;34m(\u001b[0m\u001b[0;34m\"No variables found for grid columns.\"\u001b[0m\u001b[0;34m)\u001b[0m\u001b[0;34m\u001b[0m\u001b[0;34m\u001b[0m\u001b[0m\n\u001b[0m\u001b[1;32m   1267\u001b[0m         \u001b[0;32mif\u001b[0m \u001b[0;32mnot\u001b[0m \u001b[0my_vars\u001b[0m\u001b[0;34m:\u001b[0m\u001b[0;34m\u001b[0m\u001b[0;34m\u001b[0m\u001b[0m\n\u001b[1;32m   1268\u001b[0m             \u001b[0;32mraise\u001b[0m \u001b[0mValueError\u001b[0m\u001b[0;34m(\u001b[0m\u001b[0;34m\"No variables found for grid rows.\"\u001b[0m\u001b[0;34m)\u001b[0m\u001b[0;34m\u001b[0m\u001b[0;34m\u001b[0m\u001b[0m\n",
            "\u001b[0;31mValueError\u001b[0m: No variables found for grid columns."
          ]
        }
      ]
    },
    {
      "cell_type": "markdown",
      "source": [
        "#HEAT MAP"
      ],
      "metadata": {
        "id": "5gULavURC9ZL"
      }
    },
    {
      "cell_type": "code",
      "source": [
        "import seaborn as sns\n",
        "\n",
        "# Create correlation matrix\n",
        "corr = df.corr()\n",
        "\n",
        "# Create heatmap\n",
        "sns.heatmap(corr, cmap=\"YlGnBu\")\n"
      ],
      "metadata": {
        "colab": {
          "base_uri": "https://localhost:8080/",
          "height": 453
        },
        "id": "prLn9j35C--e",
        "outputId": "a2f92040-d266-4dd2-9ccd-5dad9153f20e"
      },
      "execution_count": null,
      "outputs": [
        {
          "output_type": "execute_result",
          "data": {
            "text/plain": [
              "<Axes: >"
            ]
          },
          "metadata": {},
          "execution_count": 82
        },
        {
          "output_type": "display_data",
          "data": {
            "text/plain": [
              "<Figure size 640x480 with 2 Axes>"
            ],
            "image/png": "[encoded data removed]"
          },
          "metadata": {}
        }
      ]
    },
    {
      "cell_type": "markdown",
      "source": [
        "#cross-validation"
      ],
      "metadata": {
        "id": "WZrJL29nD9sX"
      }
    },
    {
      "cell_type": "code",
      "source": [
        "from sklearn.model_selection import cross_val_score\n",
        "from sklearn.linear_model import LinearRegression\n",
        "import numpy as np\n",
        "\n",
        "# Load data\n",
        "data = pd.read_csv(\"tic_2000_eval_data.csv\")\n",
        "\n",
        "X = data.drop([\"MOSTYPE\"], axis=1)\n",
        "y = data[\"MOSTYPE\"]\n",
        "\n",
        "# Create linear regression model\n",
        "lin_reg = LinearRegression()\n",
        "\n",
        "# Perform cross validation\n",
        "scores = cross_val_score(lin_reg, X, y, cv=5, scoring='neg_mean_squared_error')\n",
        "\n",
        "# Print mean and standard deviation of cross validation scores\n",
        "print(\"Cross validation scores:\", np.sqrt(-scores))\n",
        "print(\"Mean RMSE:\", np.mean(np.sqrt(-scores)))\n",
        "print(\"Standard deviation of RMSE:\", np.std(np.sqrt(-scores)))\n"
      ],
      "metadata": {
        "id": "zrqfDXc8ECiL",
        "colab": {
          "base_uri": "https://localhost:8080/"
        },
        "outputId": "edfa5720-9f29-4865-a1cf-c5b899a07c64"
      },
      "execution_count": null,
      "outputs": [
        {
          "output_type": "stream",
          "name": "stdout",
          "text": [
            "Cross validation scores: [1.39265281 1.37931118 1.39331586 1.39325532 1.39956559]\n",
            "Mean RMSE: 1.391620149784165\n",
            "Standard deviation of RMSE: 0.006652163578293517\n"
          ]
        }
      ]
    },
    {
      "cell_type": "markdown",
      "source": [
        "#RANSAC "
      ],
      "metadata": {
        "id": "ghGPsGFWV-Y1"
      }
    },
    {
      "cell_type": "code",
      "source": [
        "import pandas as pd\n"
      ],
      "metadata": {
        "id": "x_wd4ailWSEP"
      },
      "execution_count": null,
      "outputs": []
    },
    {
      "cell_type": "code",
      "source": [
        "from google.colab import files\n",
        "files=files.upload()"
      ],
      "metadata": {
        "colab": {
          "base_uri": "https://localhost:8080/",
          "height": 73
        },
        "id": "zgbwxBwwWX-R",
        "outputId": "a7299282-ad93-4f91-c225-d711751ab82d"
      },
      "execution_count": null,
      "outputs": [
        {
          "output_type": "display_data",
          "data": {
            "text/plain": [
              "<IPython.core.display.HTML object>"
            ],
            "text/html": [
              "\n",
              "     <input type=\"file\" id=\"files-acac39d1-41f2-441a-8718-8668fa66cc90\" name=\"files[]\" multiple disabled\n",
              "        style=\"border:none\" />\n",
              "     <output id=\"result-acac39d1-41f2-441a-8718-8668fa66cc90\">\n",
              "      Upload widget is only available when the cell has been executed in the\n",
              "      current browser session. Please rerun this cell to enable.\n",
              "      </output>\n",
              "      <script>// Copyright 2017 Google LLC\n",
              "//\n",
              "// Licensed under the Apache License, Version 2.0 (the \"License\");\n",
              "// you may not use this file except in compliance with the License.\n",
              "// You may obtain a copy of the License at\n",
              "//\n",
              "//      http://www.apache.org/licenses/LICENSE-2.0\n",
              "//\n",
              "// Unless required by applicable law or agreed to in writing, software\n",
              "// distributed under the License is distributed on an \"AS IS\" BASIS,\n",
              "// WITHOUT WARRANTIES OR CONDITIONS OF ANY KIND, either express or implied.\n",
              "// See the License for the specific language governing permissions and\n",
              "// limitations under the License.\n",
              "\n",
              "/**\n",
              " * @fileoverview Helpers for google.colab Python module.\n",
              " */\n",
              "(function(scope) {\n",
              "function span(text, styleAttributes = {}) {\n",
              "  const element = document.createElement('span');\n",
              "  element.textContent = text;\n",
              "  for (const key of Object.keys(styleAttributes)) {\n",
              "    element.style[key] = styleAttributes[key];\n",
              "  }\n",
              "  return element;\n",
              "}\n",
              "\n",
              "// Max number of bytes which will be uploaded at a time.\n",
              "const MAX_PAYLOAD_SIZE = 100 * 1024;\n",
              "\n",
              "function _uploadFiles(inputId, outputId) {\n",
              "  const steps = uploadFilesStep(inputId, outputId);\n",
              "  const outputElement = document.getElementById(outputId);\n",
              "  // Cache steps on the outputElement to make it available for the next call\n",
              "  // to uploadFilesContinue from Python.\n",
              "  outputElement.steps = steps;\n",
              "\n",
              "  return _uploadFilesContinue(outputId);\n",
              "}\n",
              "\n",
              "// This is roughly an async generator (not supported in the browser yet),\n",
              "// where there are multiple asynchronous steps and the Python side is going\n",
              "// to poll for completion of each step.\n",
              "// This uses a Promise to block the python side on completion of each step,\n",
              "// then passes the result of the previous step as the input to the next step.\n",
              "function _uploadFilesContinue(outputId) {\n",
              "  const outputElement = document.getElementById(outputId);\n",
              "  const steps = outputElement.steps;\n",
              "\n",
              "  const next = steps.next(outputElement.lastPromiseValue);\n",
              "  return Promise.resolve(next.value.promise).then((value) => {\n",
              "    // Cache the last promise value to make it available to the next\n",
              "    // step of the generator.\n",
              "    outputElement.lastPromiseValue = value;\n",
              "    return next.value.response;\n",
              "  });\n",
              "}\n",
              "\n",
              "/**\n",
              " * Generator function which is called between each async step of the upload\n",
              " * process.\n",
              " * @param {string} inputId Element ID of the input file picker element.\n",
              " * @param {string} outputId Element ID of the output display.\n",
              " * @return {!Iterable<!Object>} Iterable of next steps.\n",
              " */\n",
              "function* uploadFilesStep(inputId, outputId) {\n",
              "  const inputElement = document.getElementById(inputId);\n",
              "  inputElement.disabled = false;\n",
              "\n",
              "  const outputElement = document.getElementById(outputId);\n",
              "  outputElement.innerHTML = '';\n",
              "\n",
              "  const pickedPromise = new Promise((resolve) => {\n",
              "    inputElement.addEventListener('change', (e) => {\n",
              "      resolve(e.target.files);\n",
              "    });\n",
              "  });\n",
              "\n",
              "  const cancel = document.createElement('button');\n",
              "  inputElement.parentElement.appendChild(cancel);\n",
              "  cancel.textContent = 'Cancel upload';\n",
              "  const cancelPromise = new Promise((resolve) => {\n",
              "    cancel.onclick = () => {\n",
              "      resolve(null);\n",
              "    };\n",
              "  });\n",
              "\n",
              "  // Wait for the user to pick the files.\n",
              "  const files = yield {\n",
              "    promise: Promise.race([pickedPromise, cancelPromise]),\n",
              "    response: {\n",
              "      action: 'starting',\n",
              "    }\n",
              "  };\n",
              "\n",
              "  cancel.remove();\n",
              "\n",
              "  // Disable the input element since further picks are not allowed.\n",
              "  inputElement.disabled = true;\n",
              "\n",
              "  if (!files) {\n",
              "    return {\n",
              "      response: {\n",
              "        action: 'complete',\n",
              "      }\n",
              "    };\n",
              "  }\n",
              "\n",
              "  for (const file of files) {\n",
              "    const li = document.createElement('li');\n",
              "    li.append(span(file.name, {fontWeight: 'bold'}));\n",
              "    li.append(span(\n",
              "        `(${file.type || 'n/a'}) - ${file.size} bytes, ` +\n",
              "        `last modified: ${\n",
              "            file.lastModifiedDate ? file.lastModifiedDate.toLocaleDateString() :\n",
              "                                    'n/a'} - `));\n",
              "    const percent = span('0% done');\n",
              "    li.appendChild(percent);\n",
              "\n",
              "    outputElement.appendChild(li);\n",
              "\n",
              "    const fileDataPromise = new Promise((resolve) => {\n",
              "      const reader = new FileReader();\n",
              "      reader.onload = (e) => {\n",
              "        resolve(e.target.result);\n",
              "      };\n",
              "      reader.readAsArrayBuffer(file);\n",
              "    });\n",
              "    // Wait for the data to be ready.\n",
              "    let fileData = yield {\n",
              "      promise: fileDataPromise,\n",
              "      response: {\n",
              "        action: 'continue',\n",
              "      }\n",
              "    };\n",
              "\n",
              "    // Use a chunked sending to avoid message size limits. See b/62115660.\n",
              "    let position = 0;\n",
              "    do {\n",
              "      const length = Math.min(fileData.byteLength - position, MAX_PAYLOAD_SIZE);\n",
              "      const chunk = new Uint8Array(fileData, position, length);\n",
              "      position += length;\n",
              "\n",
              "      const base64 = btoa(String.fromCharCode.apply(null, chunk));\n",
              "      yield {\n",
              "        response: {\n",
              "          action: 'append',\n",
              "          file: file.name,\n",
              "          data: base64,\n",
              "        },\n",
              "      };\n",
              "\n",
              "      let percentDone = fileData.byteLength === 0 ?\n",
              "          100 :\n",
              "          Math.round((position / fileData.byteLength) * 100);\n",
              "      percent.textContent = `${percentDone}% done`;\n",
              "\n",
              "    } while (position < fileData.byteLength);\n",
              "  }\n",
              "\n",
              "  // All done.\n",
              "  yield {\n",
              "    response: {\n",
              "      action: 'complete',\n",
              "    }\n",
              "  };\n",
              "}\n",
              "\n",
              "scope.google = scope.google || {};\n",
              "scope.google.colab = scope.google.colab || {};\n",
              "scope.google.colab._files = {\n",
              "  _uploadFiles,\n",
              "  _uploadFilesContinue,\n",
              "};\n",
              "})(self);\n",
              "</script> "
            ]
          },
          "metadata": {}
        },
        {
          "output_type": "stream",
          "name": "stdout",
          "text": [
            "Saving tic_2000_eval_data.csv to tic_2000_eval_data (1).csv\n"
          ]
        }
      ]
    },
    {
      "cell_type": "code",
      "source": [
        "\n",
        "df = pd.read_csv(\"tic_2000_eval_data.csv\")"
      ],
      "metadata": {
        "id": "vSfV5XSYWAtr"
      },
      "execution_count": null,
      "outputs": []
    },
    {
      "cell_type": "code",
      "source": [
        " df.head()"
      ],
      "metadata": {
        "colab": {
          "base_uri": "https://localhost:8080/",
          "height": 235
        },
        "id": "lq0Wqc75WMkN",
        "outputId": "a8bf4330-f1ee-4705-80be-b549ed7087d7"
      },
      "execution_count": null,
      "outputs": [
        {
          "output_type": "execute_result",
          "data": {
            "text/plain": [
              "   MOSTYPE  MAANTHUI  MGEMOMV  MGEMLEEF  MOSHOOFD  MGODRK  MGODPR  MGODOV  \\\n",
              "0       33         1        4         2         8       0       6       0   \n",
              "1        6         1        3         2         2       0       5       0   \n",
              "2       39         1        3         3         9       1       4       2   \n",
              "3        9         1        2         3         3       2       3       2   \n",
              "4       31         1        2         4         7       0       2       0   \n",
              "\n",
              "   MGODGE  MRELGE  ...  ALEVEN  APERSONG  AGEZONG  AWAOREG  ABRAND  AZEILPL  \\\n",
              "0       3       5  ...       0         0        0        0       1        0   \n",
              "1       4       5  ...       2         0        0        0       1        0   \n",
              "2       3       5  ...       1         0        0        0       1        0   \n",
              "3       4       5  ...       0         0        0        0       1        0   \n",
              "4       7       9  ...       0         0        0        0       1        0   \n",
              "\n",
              "   APLEZIER  AFIETS  AINBOED  ABYSTAND  \n",
              "0         0       0        0         0  \n",
              "1         0       0        0         0  \n",
              "2         0       0        0         0  \n",
              "3         0       0        0         0  \n",
              "4         0       0        0         0  \n",
              "\n",
              "[5 rows x 85 columns]"
            ],
            "text/html": [
              "\n",
              "  <div id=\"df-ade68d61-796f-4cae-9439-1d599a93e4ca\">\n",
              "    <div class=\"colab-df-container\">\n",
              "      <div>\n",
              "<style scoped>\n",
              "    .dataframe tbody tr th:only-of-type {\n",
              "        vertical-align: middle;\n",
              "    }\n",
              "\n",
              "    .dataframe tbody tr th {\n",
              "        vertical-align: top;\n",
              "    }\n",
              "\n",
              "    .dataframe thead th {\n",
              "        text-align: right;\n",
              "    }\n",
              "</style>\n",
              "<table border=\"1\" class=\"dataframe\">\n",
              "  <thead>\n",
              "    <tr style=\"text-align: right;\">\n",
              "      <th></th>\n",
              "      <th>MOSTYPE</th>\n",
              "      <th>MAANTHUI</th>\n",
              "      <th>MGEMOMV</th>\n",
              "      <th>MGEMLEEF</th>\n",
              "      <th>MOSHOOFD</th>\n",
              "      <th>MGODRK</th>\n",
              "      <th>MGODPR</th>\n",
              "      <th>MGODOV</th>\n",
              "      <th>MGODGE</th>\n",
              "      <th>MRELGE</th>\n",
              "      <th>...</th>\n",
              "      <th>ALEVEN</th>\n",
              "      <th>APERSONG</th>\n",
              "      <th>AGEZONG</th>\n",
              "      <th>AWAOREG</th>\n",
              "      <th>ABRAND</th>\n",
              "      <th>AZEILPL</th>\n",
              "      <th>APLEZIER</th>\n",
              "      <th>AFIETS</th>\n",
              "      <th>AINBOED</th>\n",
              "      <th>ABYSTAND</th>\n",
              "    </tr>\n",
              "  </thead>\n",
              "  <tbody>\n",
              "    <tr>\n",
              "      <th>0</th>\n",
              "      <td>33</td>\n",
              "      <td>1</td>\n",
              "      <td>4</td>\n",
              "      <td>2</td>\n",
              "      <td>8</td>\n",
              "      <td>0</td>\n",
              "      <td>6</td>\n",
              "      <td>0</td>\n",
              "      <td>3</td>\n",
              "      <td>5</td>\n",
              "      <td>...</td>\n",
              "      <td>0</td>\n",
              "      <td>0</td>\n",
              "      <td>0</td>\n",
              "      <td>0</td>\n",
              "      <td>1</td>\n",
              "      <td>0</td>\n",
              "      <td>0</td>\n",
              "      <td>0</td>\n",
              "      <td>0</td>\n",
              "      <td>0</td>\n",
              "    </tr>\n",
              "    <tr>\n",
              "      <th>1</th>\n",
              "      <td>6</td>\n",
              "      <td>1</td>\n",
              "      <td>3</td>\n",
              "      <td>2</td>\n",
              "      <td>2</td>\n",
              "      <td>0</td>\n",
              "      <td>5</td>\n",
              "      <td>0</td>\n",
              "      <td>4</td>\n",
              "      <td>5</td>\n",
              "      <td>...</td>\n",
              "      <td>2</td>\n",
              "      <td>0</td>\n",
              "      <td>0</td>\n",
              "      <td>0</td>\n",
              "      <td>1</td>\n",
              "      <td>0</td>\n",
              "      <td>0</td>\n",
              "      <td>0</td>\n",
              "      <td>0</td>\n",
              "      <td>0</td>\n",
              "    </tr>\n",
              "    <tr>\n",
              "      <th>2</th>\n",
              "      <td>39</td>\n",
              "      <td>1</td>\n",
              "      <td>3</td>\n",
              "      <td>3</td>\n",
              "      <td>9</td>\n",
              "      <td>1</td>\n",
              "      <td>4</td>\n",
              "      <td>2</td>\n",
              "      <td>3</td>\n",
              "      <td>5</td>\n",
              "      <td>...</td>\n",
              "      <td>1</td>\n",
              "      <td>0</td>\n",
              "      <td>0</td>\n",
              "      <td>0</td>\n",
              "      <td>1</td>\n",
              "      <td>0</td>\n",
              "      <td>0</td>\n",
              "      <td>0</td>\n",
              "      <td>0</td>\n",
              "      <td>0</td>\n",
              "    </tr>\n",
              "    <tr>\n",
              "      <th>3</th>\n",
              "      <td>9</td>\n",
              "      <td>1</td>\n",
              "      <td>2</td>\n",
              "      <td>3</td>\n",
              "      <td>3</td>\n",
              "      <td>2</td>\n",
              "      <td>3</td>\n",
              "      <td>2</td>\n",
              "      <td>4</td>\n",
              "      <td>5</td>\n",
              "      <td>...</td>\n",
              "      <td>0</td>\n",
              "      <td>0</td>\n",
              "      <td>0</td>\n",
              "      <td>0</td>\n",
              "      <td>1</td>\n",
              "      <td>0</td>\n",
              "      <td>0</td>\n",
              "      <td>0</td>\n",
              "      <td>0</td>\n",
              "      <td>0</td>\n",
              "    </tr>\n",
              "    <tr>\n",
              "      <th>4</th>\n",
              "      <td>31</td>\n",
              "      <td>1</td>\n",
              "      <td>2</td>\n",
              "      <td>4</td>\n",
              "      <td>7</td>\n",
              "      <td>0</td>\n",
              "      <td>2</td>\n",
              "      <td>0</td>\n",
              "      <td>7</td>\n",
              "      <td>9</td>\n",
              "      <td>...</td>\n",
              "      <td>0</td>\n",
              "      <td>0</td>\n",
              "      <td>0</td>\n",
              "      <td>0</td>\n",
              "      <td>1</td>\n",
              "      <td>0</td>\n",
              "      <td>0</td>\n",
              "      <td>0</td>\n",
              "      <td>0</td>\n",
              "      <td>0</td>\n",
              "    </tr>\n",
              "  </tbody>\n",
              "</table>\n",
              "<p>5 rows × 85 columns</p>\n",
              "</div>\n",
              "      <button class=\"colab-df-convert\" onclick=\"convertToInteractive('df-ade68d61-796f-4cae-9439-1d599a93e4ca')\"\n",
              "              title=\"Convert this dataframe to an interactive table.\"\n",
              "              style=\"display:none;\">\n",
              "        \n",
              "  <svg xmlns=\"http://www.w3.org/2000/svg\" height=\"24px\"viewBox=\"0 0 24 24\"\n",
              "       width=\"24px\">\n",
              "    <path d=\"M0 0h24v24H0V0z\" fill=\"none\"/>\n",
              "    <path d=\"M18.56 5.44l.94 2.06.94-2.06 2.06-.94-2.06-.94-.94-2.06-.94 2.06-2.06.94zm-11 1L8.5 8.5l.94-2.06 2.06-.94-2.06-.94L8.5 2.5l-.94 2.06-2.06.94zm10 10l.94 2.06.94-2.06 2.06-.94-2.06-.94-.94-2.06-.94 2.06-2.06.94z\"/><path d=\"M17.41 7.96l-1.37-1.37c-.4-.4-.92-.59-1.43-.59-.52 0-1.04.2-1.43.59L10.3 9.45l-7.72 7.72c-.78.78-.78 2.05 0 2.83L4 21.41c.39.39.9.59 1.41.59.51 0 1.02-.2 1.41-.59l7.78-7.78 2.81-2.81c.8-.78.8-2.07 0-2.86zM5.41 20L4 18.59l7.72-7.72 1.47 1.35L5.41 20z\"/>\n",
              "  </svg>\n",
              "      </button>\n",
              "      \n",
              "  <style>\n",
              "    .colab-df-container {\n",
              "      display:flex;\n",
              "      flex-wrap:wrap;\n",
              "      gap: 12px;\n",
              "    }\n",
              "\n",
              "    .colab-df-convert {\n",
              "      background-color: #E8F0FE;\n",
              "      border: none;\n",
              "      border-radius: 50%;\n",
              "      cursor: pointer;\n",
              "      display: none;\n",
              "      fill: #1967D2;\n",
              "      height: 32px;\n",
              "      padding: 0 0 0 0;\n",
              "      width: 32px;\n",
              "    }\n",
              "\n",
              "    .colab-df-convert:hover {\n",
              "      background-color: #E2EBFA;\n",
              "      box-shadow: 0px 1px 2px rgba(60, 64, 67, 0.3), 0px 1px 3px 1px rgba(60, 64, 67, 0.15);\n",
              "      fill: #174EA6;\n",
              "    }\n",
              "\n",
              "    [theme=dark] .colab-df-convert {\n",
              "      background-color: #3B4455;\n",
              "      fill: #D2E3FC;\n",
              "    }\n",
              "\n",
              "    [theme=dark] .colab-df-convert:hover {\n",
              "      background-color: #434B5C;\n",
              "      box-shadow: 0px 1px 3px 1px rgba(0, 0, 0, 0.15);\n",
              "      filter: drop-shadow(0px 1px 2px rgba(0, 0, 0, 0.3));\n",
              "      fill: #FFFFFF;\n",
              "    }\n",
              "  </style>\n",
              "\n",
              "      <script>\n",
              "        const buttonEl =\n",
              "          document.querySelector('#df-ade68d61-796f-4cae-9439-1d599a93e4ca button.colab-df-convert');\n",
              "        buttonEl.style.display =\n",
              "          google.colab.kernel.accessAllowed ? 'block' : 'none';\n",
              "\n",
              "        async function convertToInteractive(key) {\n",
              "          const element = document.querySelector('#df-ade68d61-796f-4cae-9439-1d599a93e4ca');\n",
              "          const dataTable =\n",
              "            await google.colab.kernel.invokeFunction('convertToInteractive',\n",
              "                                                     [key], {});\n",
              "          if (!dataTable) return;\n",
              "\n",
              "          const docLinkHtml = 'Like what you see? Visit the ' +\n",
              "            '<a target=\"_blank\" href=https://colab.research.google.com/notebooks/data_table.ipynb>data table notebook</a>'\n",
              "            + ' to learn more about interactive tables.';\n",
              "          element.innerHTML = '';\n",
              "          dataTable['output_type'] = 'display_data';\n",
              "          await google.colab.output.renderOutput(dataTable, element);\n",
              "          const docLink = document.createElement('div');\n",
              "          docLink.innerHTML = docLinkHtml;\n",
              "          element.appendChild(docLink);\n",
              "        }\n",
              "      </script>\n",
              "    </div>\n",
              "  </div>\n",
              "  "
            ]
          },
          "metadata": {},
          "execution_count": 8
        }
      ]
    },
    {
      "cell_type": "code",
      "source": [
        "print(df)"
      ],
      "metadata": {
        "colab": {
          "base_uri": "https://localhost:8080/"
        },
        "id": "l8KXT-efWyO7",
        "outputId": "36f56d88-cb33-42bb-faa2-1a2430465c5f"
      },
      "execution_count": null,
      "outputs": [
        {
          "output_type": "stream",
          "name": "stdout",
          "text": [
            "      MOSTYPE  MAANTHUI  MGEMOMV  MGEMLEEF  MOSHOOFD  MGODRK  MGODPR  MGODOV  \\\n",
            "0          33         1        4         2         8       0       6       0   \n",
            "1           6         1        3         2         2       0       5       0   \n",
            "2          39         1        3         3         9       1       4       2   \n",
            "3           9         1        2         3         3       2       3       2   \n",
            "4          31         1        2         4         7       0       2       0   \n",
            "...       ...       ...      ...       ...       ...     ...     ...     ...   \n",
            "3995       33         1        2         4         8       0       7       2   \n",
            "3996       24         1        2         3         5       1       5       1   \n",
            "3997       36         1        2         3         8       1       5       1   \n",
            "3998       33         1        3         3         8       1       4       2   \n",
            "3999        8         1        2         3         2       4       3       0   \n",
            "\n",
            "      MGODGE  MRELGE  ...  ALEVEN  APERSONG  AGEZONG  AWAOREG  ABRAND  \\\n",
            "0          3       5  ...       0         0        0        0       1   \n",
            "1          4       5  ...       2         0        0        0       1   \n",
            "2          3       5  ...       1         0        0        0       1   \n",
            "3          4       5  ...       0         0        0        0       1   \n",
            "4          7       9  ...       0         0        0        0       1   \n",
            "...      ...     ...  ...     ...       ...      ...      ...     ...   \n",
            "3995       0       5  ...       0         0        0        0       1   \n",
            "3996       3       4  ...       1         0        0        0       1   \n",
            "3997       3       7  ...       0         0        0        0       1   \n",
            "3998       3       7  ...       0         0        0        0       0   \n",
            "3999       3       5  ...       0         0        0        0       1   \n",
            "\n",
            "      AZEILPL  APLEZIER  AFIETS  AINBOED  ABYSTAND  \n",
            "0           0         0       0        0         0  \n",
            "1           0         0       0        0         0  \n",
            "2           0         0       0        0         0  \n",
            "3           0         0       0        0         0  \n",
            "4           0         0       0        0         0  \n",
            "...       ...       ...     ...      ...       ...  \n",
            "3995        0         0       0        0         0  \n",
            "3996        0         0       0        0         0  \n",
            "3997        0         0       0        1         0  \n",
            "3998        0         0       0        0         0  \n",
            "3999        0         0       0        0         0  \n",
            "\n",
            "[4000 rows x 85 columns]\n"
          ]
        }
      ]
    },
    {
      "cell_type": "code",
      "source": [
        "X=df['MOSTYPE']\n",
        "Y=df['MGEMOMV']\n",
        "from sklearn.linear_model import RANSACRegressor\n",
        "from sklearn.model_selection import train_test_split\n",
        "from sklearn.linear_model import LinearRegression\n",
        "import numpy as np\n",
        "import matplotlib.pyplot as plt\n",
        "xtrain,xtest,ytrain,ytest=train_test_split(X,Y,test_size=0.3)\n"
      ],
      "metadata": {
        "id": "lXj1HCB9W3Q9"
      },
      "execution_count": null,
      "outputs": []
    },
    {
      "cell_type": "code",
      "source": [
        "ran_reg=RANSACRegressor(LinearRegression())\n",
        "ran_reg.fit(xtrain.values.reshape(-1,1),ytrain)"
      ],
      "metadata": {
        "colab": {
          "base_uri": "https://localhost:8080/",
          "height": 118
        },
        "id": "7jjYJFozXwHi",
        "outputId": "fbef7b68-d498-4c95-fbc5-da4e5ca2b89e"
      },
      "execution_count": null,
      "outputs": [
        {
          "output_type": "execute_result",
          "data": {
            "text/plain": [
              "RANSACRegressor(estimator=LinearRegression())"
            ],
            "text/html": [
              "<style>#sk-container-id-1 {color: black;background-color: white;}#sk-container-id-1 pre{padding: 0;}#sk-container-id-1 div.sk-toggleable {background-color: white;}#sk-container-id-1 label.sk-toggleable__label {cursor: pointer;display: block;width: 100%;margin-bottom: 0;padding: 0.3em;box-sizing: border-box;text-align: center;}#sk-container-id-1 label.sk-toggleable__label-arrow:before {content: \"▸\";float: left;margin-right: 0.25em;color: #696969;}#sk-container-id-1 label.sk-toggleable__label-arrow:hover:before {color: black;}#sk-container-id-1 div.sk-estimator:hover label.sk-toggleable__label-arrow:before {color: black;}#sk-container-id-1 div.sk-toggleable__content {max-height: 0;max-width: 0;overflow: hidden;text-align: left;background-color: #f0f8ff;}#sk-container-id-1 div.sk-toggleable__content pre {margin: 0.2em;color: black;border-radius: 0.25em;background-color: #f0f8ff;}#sk-container-id-1 input.sk-toggleable__control:checked~div.sk-toggleable__content {max-height: 200px;max-width: 100%;overflow: auto;}#sk-container-id-1 input.sk-toggleable__control:checked~label.sk-toggleable__label-arrow:before {content: \"▾\";}#sk-container-id-1 div.sk-estimator input.sk-toggleable__control:checked~label.sk-toggleable__label {background-color: #d4ebff;}#sk-container-id-1 div.sk-label input.sk-toggleable__control:checked~label.sk-toggleable__label {background-color: #d4ebff;}#sk-container-id-1 input.sk-hidden--visually {border: 0;clip: rect(1px 1px 1px 1px);clip: rect(1px, 1px, 1px, 1px);height: 1px;margin: -1px;overflow: hidden;padding: 0;position: absolute;width: 1px;}#sk-container-id-1 div.sk-estimator {font-family: monospace;background-color: #f0f8ff;border: 1px dotted black;border-radius: 0.25em;box-sizing: border-box;margin-bottom: 0.5em;}#sk-container-id-1 div.sk-estimator:hover {background-color: #d4ebff;}#sk-container-id-1 div.sk-parallel-item::after {content: \"\";width: 100%;border-bottom: 1px solid gray;flex-grow: 1;}#sk-container-id-1 div.sk-label:hover label.sk-toggleable__label {background-color: #d4ebff;}#sk-container-id-1 div.sk-serial::before {content: \"\";position: absolute;border-left: 1px solid gray;box-sizing: border-box;top: 0;bottom: 0;left: 50%;z-index: 0;}#sk-container-id-1 div.sk-serial {display: flex;flex-direction: column;align-items: center;background-color: white;padding-right: 0.2em;padding-left: 0.2em;position: relative;}#sk-container-id-1 div.sk-item {position: relative;z-index: 1;}#sk-container-id-1 div.sk-parallel {display: flex;align-items: stretch;justify-content: center;background-color: white;position: relative;}#sk-container-id-1 div.sk-item::before, #sk-container-id-1 div.sk-parallel-item::before {content: \"\";position: absolute;border-left: 1px solid gray;box-sizing: border-box;top: 0;bottom: 0;left: 50%;z-index: -1;}#sk-container-id-1 div.sk-parallel-item {display: flex;flex-direction: column;z-index: 1;position: relative;background-color: white;}#sk-container-id-1 div.sk-parallel-item:first-child::after {align-self: flex-end;width: 50%;}#sk-container-id-1 div.sk-parallel-item:last-child::after {align-self: flex-start;width: 50%;}#sk-container-id-1 div.sk-parallel-item:only-child::after {width: 0;}#sk-container-id-1 div.sk-dashed-wrapped {border: 1px dashed gray;margin: 0 0.4em 0.5em 0.4em;box-sizing: border-box;padding-bottom: 0.4em;background-color: white;}#sk-container-id-1 div.sk-label label {font-family: monospace;font-weight: bold;display: inline-block;line-height: 1.2em;}#sk-container-id-1 div.sk-label-container {text-align: center;}#sk-container-id-1 div.sk-container {/* jupyter's `normalize.less` sets `[hidden] { display: none; }` but bootstrap.min.css set `[hidden] { display: none !important; }` so we also need the `!important` here to be able to override the default hidden behavior on the sphinx rendered scikit-learn.org. See: https://github.com/scikit-learn/scikit-learn/issues/21755 */display: inline-block !important;position: relative;}#sk-container-id-1 div.sk-text-repr-fallback {display: none;}</style><div id=\"sk-container-id-1\" class=\"sk-top-container\"><div class=\"sk-text-repr-fallback\"><pre>RANSACRegressor(estimator=LinearRegression())</pre><b>In a Jupyter environment, please rerun this cell to show the HTML representation or trust the notebook. <br />On GitHub, the HTML representation is unable to render, please try loading this page with nbviewer.org.</b></div><div class=\"sk-container\" hidden><div class=\"sk-item sk-dashed-wrapped\"><div class=\"sk-label-container\"><div class=\"sk-label sk-toggleable\"><input class=\"sk-toggleable__control sk-hidden--visually\" id=\"sk-estimator-id-1\" type=\"checkbox\" ><label for=\"sk-estimator-id-1\" class=\"sk-toggleable__label sk-toggleable__label-arrow\">RANSACRegressor</label><div class=\"sk-toggleable__content\"><pre>RANSACRegressor(estimator=LinearRegression())</pre></div></div></div><div class=\"sk-parallel\"><div class=\"sk-parallel-item\"><div class=\"sk-item\"><div class=\"sk-label-container\"><div class=\"sk-label sk-toggleable\"><input class=\"sk-toggleable__control sk-hidden--visually\" id=\"sk-estimator-id-2\" type=\"checkbox\" ><label for=\"sk-estimator-id-2\" class=\"sk-toggleable__label sk-toggleable__label-arrow\">estimator: LinearRegression</label><div class=\"sk-toggleable__content\"><pre>LinearRegression()</pre></div></div></div><div class=\"sk-serial\"><div class=\"sk-item\"><div class=\"sk-estimator sk-toggleable\"><input class=\"sk-toggleable__control sk-hidden--visually\" id=\"sk-estimator-id-3\" type=\"checkbox\" ><label for=\"sk-estimator-id-3\" class=\"sk-toggleable__label sk-toggleable__label-arrow\">LinearRegression</label><div class=\"sk-toggleable__content\"><pre>LinearRegression()</pre></div></div></div></div></div></div></div></div></div></div>"
            ]
          },
          "metadata": {},
          "execution_count": 12
        }
      ]
    },
    {
      "cell_type": "code",
      "source": [
        "inliers=ran_reg.inlier_mask_\n",
        "outliers=np.logical_not(inliers)"
      ],
      "metadata": {
        "id": "2U0XsmteYnUk"
      },
      "execution_count": null,
      "outputs": []
    },
    {
      "cell_type": "code",
      "source": [
        "plt.scatter(xtrain.values.reshape(-1,1)[inliers],ytrain[inliers],color=\"green\")\n",
        "plt.scatter(xtrain.values.reshape(-1,1)[outliers],ytrain[outliers],color=\"red\")\n",
        "plt.plot(xtrain,ran_reg.predict(xtrain.values.reshape(-1,1)))\n",
        "plt.show()"
      ],
      "metadata": {
        "colab": {
          "base_uri": "https://localhost:8080/",
          "height": 430
        },
        "id": "WW0IHmNBZKDE",
        "outputId": "903288af-1017-4991-f7cf-6ef4d4fd2072"
      },
      "execution_count": null,
      "outputs": [
        {
          "output_type": "display_data",
          "data": {
            "text/plain": [
              "<Figure size 640x480 with 1 Axes>"
            ],
            "image/png": "[encoded data removed]"
          },
          "metadata": {}
        }
      ]
    },
    {
      "cell_type": "markdown",
      "source": [
        "#POLYNOMIAL REGRESSION"
      ],
      "metadata": {
        "id": "-C4XcYsIayrP"
      }
    },
    {
      "cell_type": "code",
      "source": [
        "from sklearn.preprocessing import PolynomialFeatures"
      ],
      "metadata": {
        "id": "lV-9zsmoa0_-"
      },
      "execution_count": null,
      "outputs": []
    },
    {
      "cell_type": "code",
      "source": [
        "data=pd.read_csv(\"tic_2000_eval_data.csv\")\n",
        "plt.scatter(data['MGODRK'],data['MOSTYPE'])\n",
        "plt.show()"
      ],
      "metadata": {
        "colab": {
          "base_uri": "https://localhost:8080/",
          "height": 430
        },
        "id": "exSDULNNa7kK",
        "outputId": "7f02fc07-5602-4658-d3c4-9499c3ccbb90"
      },
      "execution_count": null,
      "outputs": [
        {
          "output_type": "display_data",
          "data": {
            "text/plain": [
              "<Figure size 640x480 with 1 Axes>"
            ],
            "image/png": "[encoded data removed]"
          },
          "metadata": {}
        }
      ]
    },
    {
      "cell_type": "code",
      "source": [],
      "metadata": {
        "id": "DgaOzv9PbHgJ"
      },
      "execution_count": null,
      "outputs": []
    }
  ],
  "metadata": {
    "colab": {
      "provenance": []
    },
    "kernelspec": {
      "display_name": "Python 3",
      "name": "python3"
    },
    "language_info": {
      "name": "python"
    }
  },
  "nbformat": 4,
  "nbformat_minor": 0
}